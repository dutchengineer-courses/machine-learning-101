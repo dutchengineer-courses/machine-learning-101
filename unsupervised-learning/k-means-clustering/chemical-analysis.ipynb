{
 "cells": [
  {
   "cell_type": "markdown",
   "metadata": {},
   "source": [
    "# Chemical Analysis"
   ]
  },
  {
   "cell_type": "markdown",
   "metadata": {},
   "source": [
    "This last one I wanted to make extra special. The last couple of projects have specifically showcased a scenario that we covered. For this one, I want to show you how to create a project with the concepts that you have learned. <br>\n",
    " I am a chemist by trade, so I decided to create a novel dataset for this project by pulling data from [ChEMBL](https://www.ebi.ac.uk/chembl/), a great resource for bioactive molecules with drug-like properties. <br>"
   ]
  },
  {
   "cell_type": "markdown",
   "metadata": {},
   "source": [
    "The goal in this project is to cluster a set of chemical compounds that are used for therapeutic usage. This clustering is useful because instead of doing months and months of lab analysis, we could focus on similarly grouped compounds to the compound we are studying as a therapeutic drug. "
   ]
  },
  {
   "cell_type": "markdown",
   "metadata": {},
   "source": [
    "## Get Data"
   ]
  },
  {
   "cell_type": "markdown",
   "metadata": {},
   "source": [
    "Here are the filters I used:\n",
    "1. Type = 'Small Molecules' "
   ]
  },
  {
   "cell_type": "markdown",
   "metadata": {},
   "source": [
    "Here's the full query.\n",
    "```\n",
    "curl -XPOST \"https://www.ebi.ac.uk/chembl/elk/es/chembl_molecule/_search\" -H 'Content-Type: application/json' -d'{\n",
    "  \"size\": 20,\n",
    "  \"from\": 0,\n",
    "  \"_source\": [\n",
    "    \"molecule_chembl_id\",\n",
    "    \"pref_name\",\n",
    "    \"molecule_synonyms\",\n",
    "    \"molecule_type\",\n",
    "    \"max_phase\",\n",
    "    \"molecule_properties.full_mwt\",\n",
    "    \"_metadata.related_targets.count\",\n",
    "    \"_metadata.related_activities.count\",\n",
    "    \"molecule_properties.alogp\",\n",
    "    \"molecule_properties.psa\",\n",
    "    \"molecule_properties.hba\",\n",
    "    \"molecule_properties.hbd\",\n",
    "    \"molecule_properties.num_ro5_violations\",\n",
    "    \"molecule_properties.rtb\",\n",
    "    \"molecule_properties.ro3_pass\",\n",
    "    \"molecule_properties.qed_weighted\",\n",
    "    \"molecule_properties.cx_most_apka\",\n",
    "    \"molecule_properties.cx_most_bpka\",\n",
    "    \"molecule_properties.cx_logp\",\n",
    "    \"molecule_properties.cx_logd\",\n",
    "    \"molecule_properties.aromatic_rings\",\n",
    "    \"structure_type\",\n",
    "    \"inorganic_flag\",\n",
    "    \"molecule_properties.heavy_atoms\",\n",
    "    \"molecule_properties.hba_lipinski\",\n",
    "    \"molecule_properties.hbd_lipinski\",\n",
    "    \"molecule_properties.num_lipinski_ro5_violations\",\n",
    "    \"molecule_properties.mw_monoisotopic\",\n",
    "    \"molecule_properties.molecular_species\",\n",
    "    \"molecule_properties.full_molformula\",\n",
    "    \"molecule_structures.canonical_smiles\",\n",
    "    \"molecule_structures.standard_inchi_key\",\n",
    "    \"natural_product\",\n",
    "    \"polymer_flag\"\n",
    "  ],\n",
    "  \"query\": {\n",
    "    \"bool\": {\n",
    "      \"must\": {\n",
    "        \"bool\": {\n",
    "          \"boost\": 1,\n",
    "          \"must\": {\n",
    "            \"bool\": {\n",
    "              \"must\": [],\n",
    "              \"should\": []\n",
    "            }\n",
    "          }\n",
    "        }\n",
    "      },\n",
    "      \"filter\": [\n",
    "        [\n",
    "          {\n",
    "            \"bool\": {\n",
    "              \"should\": [\n",
    "                {\n",
    "                  \"term\": {\n",
    "                    \"molecule_type\": \"Small molecule\"\n",
    "                  }\n",
    "                }\n",
    "              ]\n",
    "            }\n",
    "          },\n",
    "          {\n",
    "            \"bool\": {\n",
    "              \"should\": [\n",
    "                {\n",
    "                  \"range\": {\n",
    "                    \"molecule_properties.num_ro5_violations\": {\n",
    "                      \"gte\": 0,\n",
    "                      \"lt\": 1\n",
    "                    }\n",
    "                  }\n",
    "                }\n",
    "              ]\n",
    "            }\n",
    "          },\n",
    "          {\n",
    "            \"bool\": {\n",
    "              \"should\": [\n",
    "                {\n",
    "                  \"term\": {\n",
    "                    \"withdrawn_flag\": false\n",
    "                  }\n",
    "                }\n",
    "              ]\n",
    "            }\n",
    "          }\n",
    "        ]\n",
    "      ]\n",
    "    }\n",
    "  },\n",
    "  \"track_total_hits\": true,\n",
    "  \"sort\": []\n",
    "}'\n",
    "```"
   ]
  },
  {
   "cell_type": "markdown",
   "metadata": {},
   "source": [
    "When you pull your own dataset, here is a script that I used to clean the data. \n",
    "\n",
    "```\n",
    "cols = [\"ChEMBL ID\",\"Name\",\"Synonyms\",\"Type\",\"Max Phase\",\"Molecular Weight\",\"Targets\",\"Bioactivities\",\"AlogP\",\"Polar Surface Area\",\"HBA\",\"HBD\",\"#RO5 Violations\",\"#Rotatable Bonds\",\"Passes Ro3\",\"QED Weighted\",\"CX Acidic pKa\",\"CX Basic pKa\",\"CX LogP\",\"CX LogD\",\"Aromatic Rings\",\"Structure Type\",\"Inorganic Flag\",\"Heavy Atoms\",\"HBA (Lipinski)\",\"HBD (Lipinski)\",\"#RO5 Violations (Lipinski)\",\"Molecular Weight (Monoisotopic)\",\"Molecular Species\",\"Molecular Formula\",\"Smiles\",\"Inchi Key\"]\n",
    "\n",
    "import pandas as pd\n",
    "\n",
    "#the data has an excess number of quotes\n",
    "df = pd.read_csv(<whatever your file name is>,skiprows=1,header=None,delimiter=';\"',names=cols)\n",
    "\n",
    "#Need to clean the excess quotes\n",
    "for col in df.columns:\n",
    "  df[col] = df[col].str.replace('\"', '')\n",
    "```\n"
   ]
  },
  {
   "cell_type": "code",
   "execution_count": 3,
   "metadata": {},
   "outputs": [
    {
     "name": "stderr",
     "output_type": "stream",
     "text": [
      "/var/folders/cj/hrhd1p993b156lcvtr84zr8h0000gn/T/ipykernel_94745/1905440285.py:2: DtypeWarning: Columns (18,19) have mixed types. Specify dtype option on import or set low_memory=False.\n",
      "  df = pd.read_csv('chemistry-subset-clean.csv')\n"
     ]
    }
   ],
   "source": [
    "import pandas as pd\n",
    "df = pd.read_csv('chemistry-subset-clean.csv')"
   ]
  },
  {
   "cell_type": "code",
   "execution_count": 4,
   "metadata": {},
   "outputs": [
    {
     "data": {
      "text/html": [
       "<div>\n",
       "<style scoped>\n",
       "    .dataframe tbody tr th:only-of-type {\n",
       "        vertical-align: middle;\n",
       "    }\n",
       "\n",
       "    .dataframe tbody tr th {\n",
       "        vertical-align: top;\n",
       "    }\n",
       "\n",
       "    .dataframe thead th {\n",
       "        text-align: right;\n",
       "    }\n",
       "</style>\n",
       "<table border=\"1\" class=\"dataframe\">\n",
       "  <thead>\n",
       "    <tr style=\"text-align: right;\">\n",
       "      <th></th>\n",
       "      <th>ChEMBL ID</th>\n",
       "      <th>Name</th>\n",
       "      <th>Synonyms</th>\n",
       "      <th>Type</th>\n",
       "      <th>Max Phase</th>\n",
       "      <th>Molecular Weight</th>\n",
       "      <th>Targets</th>\n",
       "      <th>Bioactivities</th>\n",
       "      <th>AlogP</th>\n",
       "      <th>Polar Surface Area</th>\n",
       "      <th>...</th>\n",
       "      <th>Inorganic Flag</th>\n",
       "      <th>Heavy Atoms</th>\n",
       "      <th>HBA (Lipinski)</th>\n",
       "      <th>HBD (Lipinski)</th>\n",
       "      <th>#RO5 Violations (Lipinski)</th>\n",
       "      <th>Molecular Weight (Monoisotopic)</th>\n",
       "      <th>Molecular Species</th>\n",
       "      <th>Molecular Formula</th>\n",
       "      <th>Smiles</th>\n",
       "      <th>Inchi Key</th>\n",
       "    </tr>\n",
       "  </thead>\n",
       "  <tbody>\n",
       "    <tr>\n",
       "      <th>0</th>\n",
       "      <td>CHEMBL539070</td>\n",
       "      <td>NaN</td>\n",
       "      <td>NaN</td>\n",
       "      <td>Small molecule</td>\n",
       "      <td>0</td>\n",
       "      <td>286.79</td>\n",
       "      <td>1.0</td>\n",
       "      <td>1.0</td>\n",
       "      <td>2.28</td>\n",
       "      <td>73.06</td>\n",
       "      <td>...</td>\n",
       "      <td>-1</td>\n",
       "      <td>17</td>\n",
       "      <td>5</td>\n",
       "      <td>3</td>\n",
       "      <td>0</td>\n",
       "      <td>250.0888</td>\n",
       "      <td>NEUTRAL</td>\n",
       "      <td>C11H15ClN4OS</td>\n",
       "      <td>CCCOc1ccccc1-c1nnc(NN)s1.Cl</td>\n",
       "      <td>WPEWNRKLKLNLSO-UHFFFAOYSA-N,,,,,,,,,,,,,,,</td>\n",
       "    </tr>\n",
       "    <tr>\n",
       "      <th>1</th>\n",
       "      <td>CHEMBL2419030</td>\n",
       "      <td>NaN</td>\n",
       "      <td>NaN</td>\n",
       "      <td>Small molecule</td>\n",
       "      <td>0</td>\n",
       "      <td>359.33</td>\n",
       "      <td>4.0</td>\n",
       "      <td>4.0</td>\n",
       "      <td>3.94</td>\n",
       "      <td>85.13</td>\n",
       "      <td>...</td>\n",
       "      <td>-1</td>\n",
       "      <td>24</td>\n",
       "      <td>6</td>\n",
       "      <td>1</td>\n",
       "      <td>0</td>\n",
       "      <td>359.0551</td>\n",
       "      <td>NEUTRAL</td>\n",
       "      <td>C14H12F3N3O3S</td>\n",
       "      <td>O=c1nc(NC2CCCC2)sc2c([N+](=O)[O-])cc(C(F)(F)F)...</td>\n",
       "      <td>QGDMYSDFCXOKML-UHFFFAOYSA-N,,,,,,,,,,,,,,,</td>\n",
       "    </tr>\n",
       "    <tr>\n",
       "      <th>2</th>\n",
       "      <td>CHEMBL3465961</td>\n",
       "      <td>NaN</td>\n",
       "      <td>NaN</td>\n",
       "      <td>Small molecule</td>\n",
       "      <td>0</td>\n",
       "      <td>319.42</td>\n",
       "      <td>16.0</td>\n",
       "      <td>22.0</td>\n",
       "      <td>2.22</td>\n",
       "      <td>50.50</td>\n",
       "      <td>...</td>\n",
       "      <td>-1</td>\n",
       "      <td>23</td>\n",
       "      <td>4</td>\n",
       "      <td>1</td>\n",
       "      <td>0</td>\n",
       "      <td>319.2060</td>\n",
       "      <td>BASE</td>\n",
       "      <td>C18H26FN3O</td>\n",
       "      <td>CC(O)CN1CCC(CN(C)Cc2cc(C#N)ccc2F)CC1</td>\n",
       "      <td>FZEVYCHTADTXPM-UHFFFAOYSA-N,,,,,,,,,,,,,,,</td>\n",
       "    </tr>\n",
       "    <tr>\n",
       "      <th>3</th>\n",
       "      <td>CHEMBL194112</td>\n",
       "      <td>NaN</td>\n",
       "      <td>NaN</td>\n",
       "      <td>Small molecule</td>\n",
       "      <td>0</td>\n",
       "      <td>366.38</td>\n",
       "      <td>2.0</td>\n",
       "      <td>3.0</td>\n",
       "      <td>4.80</td>\n",
       "      <td>57.53</td>\n",
       "      <td>...</td>\n",
       "      <td>-1</td>\n",
       "      <td>26</td>\n",
       "      <td>3</td>\n",
       "      <td>2</td>\n",
       "      <td>0</td>\n",
       "      <td>366.1443</td>\n",
       "      <td>NEUTRAL</td>\n",
       "      <td>C20H21F3O3</td>\n",
       "      <td>C[C@]12CCC3c4ccc(O)cc4CCC3C1CC(C(=O)C(F)(F)F)=C2O</td>\n",
       "      <td>FIBOSLUEJGPVMK-RYCRIANLSA-N,,,,,,,,,,,,,,,</td>\n",
       "    </tr>\n",
       "    <tr>\n",
       "      <th>4</th>\n",
       "      <td>CHEMBL2047226</td>\n",
       "      <td>NaN</td>\n",
       "      <td>NaN</td>\n",
       "      <td>Small molecule</td>\n",
       "      <td>0</td>\n",
       "      <td>452.40</td>\n",
       "      <td>4.0</td>\n",
       "      <td>8.0</td>\n",
       "      <td>4.93</td>\n",
       "      <td>53.08</td>\n",
       "      <td>...</td>\n",
       "      <td>-1</td>\n",
       "      <td>29</td>\n",
       "      <td>5</td>\n",
       "      <td>2</td>\n",
       "      <td>0</td>\n",
       "      <td>451.1372</td>\n",
       "      <td>NEUTRAL</td>\n",
       "      <td>C23H26BrN5</td>\n",
       "      <td>Brc1ccc(CNc2ccnc(NC3CCN(Cc4ccccc4)CC3)n2)cc1</td>\n",
       "      <td>WOAVNWHCIXCOIZ-UHFFFAOYSA-N,,,,,,,,,,,,,,,</td>\n",
       "    </tr>\n",
       "  </tbody>\n",
       "</table>\n",
       "<p>5 rows × 32 columns</p>\n",
       "</div>"
      ],
      "text/plain": [
       "       ChEMBL ID Name Synonyms            Type  Max Phase  Molecular Weight  \\\n",
       "0   CHEMBL539070  NaN      NaN  Small molecule          0            286.79   \n",
       "1  CHEMBL2419030  NaN      NaN  Small molecule          0            359.33   \n",
       "2  CHEMBL3465961  NaN      NaN  Small molecule          0            319.42   \n",
       "3   CHEMBL194112  NaN      NaN  Small molecule          0            366.38   \n",
       "4  CHEMBL2047226  NaN      NaN  Small molecule          0            452.40   \n",
       "\n",
       "   Targets  Bioactivities  AlogP  Polar Surface Area  ...  Inorganic Flag  \\\n",
       "0      1.0            1.0   2.28               73.06  ...              -1   \n",
       "1      4.0            4.0   3.94               85.13  ...              -1   \n",
       "2     16.0           22.0   2.22               50.50  ...              -1   \n",
       "3      2.0            3.0   4.80               57.53  ...              -1   \n",
       "4      4.0            8.0   4.93               53.08  ...              -1   \n",
       "\n",
       "   Heavy Atoms  HBA (Lipinski)  HBD (Lipinski) #RO5 Violations (Lipinski)  \\\n",
       "0           17               5               3                          0   \n",
       "1           24               6               1                          0   \n",
       "2           23               4               1                          0   \n",
       "3           26               3               2                          0   \n",
       "4           29               5               2                          0   \n",
       "\n",
       "   Molecular Weight (Monoisotopic) Molecular Species Molecular Formula  \\\n",
       "0                         250.0888           NEUTRAL      C11H15ClN4OS   \n",
       "1                         359.0551           NEUTRAL     C14H12F3N3O3S   \n",
       "2                         319.2060              BASE        C18H26FN3O   \n",
       "3                         366.1443           NEUTRAL        C20H21F3O3   \n",
       "4                         451.1372           NEUTRAL        C23H26BrN5   \n",
       "\n",
       "                                              Smiles  \\\n",
       "0                        CCCOc1ccccc1-c1nnc(NN)s1.Cl   \n",
       "1  O=c1nc(NC2CCCC2)sc2c([N+](=O)[O-])cc(C(F)(F)F)...   \n",
       "2               CC(O)CN1CCC(CN(C)Cc2cc(C#N)ccc2F)CC1   \n",
       "3  C[C@]12CCC3c4ccc(O)cc4CCC3C1CC(C(=O)C(F)(F)F)=C2O   \n",
       "4       Brc1ccc(CNc2ccnc(NC3CCN(Cc4ccccc4)CC3)n2)cc1   \n",
       "\n",
       "                                    Inchi Key  \n",
       "0  WPEWNRKLKLNLSO-UHFFFAOYSA-N,,,,,,,,,,,,,,,  \n",
       "1  QGDMYSDFCXOKML-UHFFFAOYSA-N,,,,,,,,,,,,,,,  \n",
       "2  FZEVYCHTADTXPM-UHFFFAOYSA-N,,,,,,,,,,,,,,,  \n",
       "3  FIBOSLUEJGPVMK-RYCRIANLSA-N,,,,,,,,,,,,,,,  \n",
       "4  WOAVNWHCIXCOIZ-UHFFFAOYSA-N,,,,,,,,,,,,,,,  \n",
       "\n",
       "[5 rows x 32 columns]"
      ]
     },
     "execution_count": 4,
     "metadata": {},
     "output_type": "execute_result"
    }
   ],
   "source": [
    "df.head()"
   ]
  },
  {
   "cell_type": "code",
   "execution_count": 5,
   "metadata": {},
   "outputs": [
    {
     "data": {
      "text/plain": [
       "Index(['ChEMBL ID', 'Name', 'Synonyms', 'Type', 'Max Phase',\n",
       "       'Molecular Weight', 'Targets', 'Bioactivities', 'AlogP',\n",
       "       'Polar Surface Area', 'HBA', 'HBD', '#RO5 Violations',\n",
       "       '#Rotatable Bonds', 'Passes Ro3', 'QED Weighted', 'CX Acidic pKa',\n",
       "       'CX Basic pKa', 'CX LogP', 'CX LogD', 'Aromatic Rings',\n",
       "       'Structure Type', 'Inorganic Flag', 'Heavy Atoms', 'HBA (Lipinski)',\n",
       "       'HBD (Lipinski)', '#RO5 Violations (Lipinski)',\n",
       "       'Molecular Weight (Monoisotopic)', 'Molecular Species',\n",
       "       'Molecular Formula', 'Smiles', 'Inchi Key'],\n",
       "      dtype='object')"
      ]
     },
     "execution_count": 5,
     "metadata": {},
     "output_type": "execute_result"
    }
   ],
   "source": [
    "df.columns"
   ]
  },
  {
   "cell_type": "code",
   "execution_count": 18,
   "metadata": {},
   "outputs": [],
   "source": [
    "filtered_df = df[['Molecular Weight','Targets','Bioactivities','Polar Surface Area','HBA', 'HBD','Aromatic Rings', 'Inorganic Flag', 'Heavy Atoms',\n",
    "'#Rotatable Bonds']]"
   ]
  },
  {
   "cell_type": "code",
   "execution_count": 19,
   "metadata": {},
   "outputs": [
    {
     "data": {
      "text/html": [
       "<div>\n",
       "<style scoped>\n",
       "    .dataframe tbody tr th:only-of-type {\n",
       "        vertical-align: middle;\n",
       "    }\n",
       "\n",
       "    .dataframe tbody tr th {\n",
       "        vertical-align: top;\n",
       "    }\n",
       "\n",
       "    .dataframe thead th {\n",
       "        text-align: right;\n",
       "    }\n",
       "</style>\n",
       "<table border=\"1\" class=\"dataframe\">\n",
       "  <thead>\n",
       "    <tr style=\"text-align: right;\">\n",
       "      <th></th>\n",
       "      <th>Molecular Weight</th>\n",
       "      <th>Targets</th>\n",
       "      <th>Bioactivities</th>\n",
       "      <th>Polar Surface Area</th>\n",
       "      <th>HBA</th>\n",
       "      <th>HBD</th>\n",
       "      <th>Aromatic Rings</th>\n",
       "      <th>Inorganic Flag</th>\n",
       "      <th>Heavy Atoms</th>\n",
       "      <th>#Rotatable Bonds</th>\n",
       "    </tr>\n",
       "  </thead>\n",
       "  <tbody>\n",
       "    <tr>\n",
       "      <th>count</th>\n",
       "      <td>99999.000000</td>\n",
       "      <td>97957.000000</td>\n",
       "      <td>97957.000000</td>\n",
       "      <td>99999.000000</td>\n",
       "      <td>99999.000000</td>\n",
       "      <td>99999.000000</td>\n",
       "      <td>99999.000000</td>\n",
       "      <td>99999.000000</td>\n",
       "      <td>99999.000000</td>\n",
       "      <td>99999.000000</td>\n",
       "    </tr>\n",
       "    <tr>\n",
       "      <th>mean</th>\n",
       "      <td>352.628512</td>\n",
       "      <td>9.939606</td>\n",
       "      <td>15.567718</td>\n",
       "      <td>73.260337</td>\n",
       "      <td>4.765718</td>\n",
       "      <td>1.353534</td>\n",
       "      <td>2.211582</td>\n",
       "      <td>-0.991960</td>\n",
       "      <td>24.539665</td>\n",
       "      <td>4.647526</td>\n",
       "    </tr>\n",
       "    <tr>\n",
       "      <th>std</th>\n",
       "      <td>78.478559</td>\n",
       "      <td>20.706386</td>\n",
       "      <td>81.849269</td>\n",
       "      <td>30.033999</td>\n",
       "      <td>1.821115</td>\n",
       "      <td>1.102102</td>\n",
       "      <td>1.048502</td>\n",
       "      <td>0.089306</td>\n",
       "      <td>5.540197</td>\n",
       "      <td>2.489056</td>\n",
       "    </tr>\n",
       "    <tr>\n",
       "      <th>min</th>\n",
       "      <td>27.030000</td>\n",
       "      <td>1.000000</td>\n",
       "      <td>1.000000</td>\n",
       "      <td>0.000000</td>\n",
       "      <td>0.000000</td>\n",
       "      <td>0.000000</td>\n",
       "      <td>0.000000</td>\n",
       "      <td>-1.000000</td>\n",
       "      <td>1.000000</td>\n",
       "      <td>0.000000</td>\n",
       "    </tr>\n",
       "    <tr>\n",
       "      <th>25%</th>\n",
       "      <td>298.430000</td>\n",
       "      <td>2.000000</td>\n",
       "      <td>3.000000</td>\n",
       "      <td>52.310000</td>\n",
       "      <td>3.000000</td>\n",
       "      <td>1.000000</td>\n",
       "      <td>2.000000</td>\n",
       "      <td>-1.000000</td>\n",
       "      <td>21.000000</td>\n",
       "      <td>3.000000</td>\n",
       "    </tr>\n",
       "    <tr>\n",
       "      <th>50%</th>\n",
       "      <td>353.340000</td>\n",
       "      <td>4.000000</td>\n",
       "      <td>6.000000</td>\n",
       "      <td>71.110000</td>\n",
       "      <td>5.000000</td>\n",
       "      <td>1.000000</td>\n",
       "      <td>2.000000</td>\n",
       "      <td>-1.000000</td>\n",
       "      <td>25.000000</td>\n",
       "      <td>4.000000</td>\n",
       "    </tr>\n",
       "    <tr>\n",
       "      <th>75%</th>\n",
       "      <td>410.385000</td>\n",
       "      <td>10.000000</td>\n",
       "      <td>14.000000</td>\n",
       "      <td>91.840000</td>\n",
       "      <td>6.000000</td>\n",
       "      <td>2.000000</td>\n",
       "      <td>3.000000</td>\n",
       "      <td>-1.000000</td>\n",
       "      <td>29.000000</td>\n",
       "      <td>6.000000</td>\n",
       "    </tr>\n",
       "    <tr>\n",
       "      <th>max</th>\n",
       "      <td>927.020000</td>\n",
       "      <td>1078.000000</td>\n",
       "      <td>7272.000000</td>\n",
       "      <td>294.420000</td>\n",
       "      <td>10.000000</td>\n",
       "      <td>5.000000</td>\n",
       "      <td>7.000000</td>\n",
       "      <td>0.000000</td>\n",
       "      <td>37.000000</td>\n",
       "      <td>24.000000</td>\n",
       "    </tr>\n",
       "  </tbody>\n",
       "</table>\n",
       "</div>"
      ],
      "text/plain": [
       "       Molecular Weight       Targets  Bioactivities  Polar Surface Area  \\\n",
       "count      99999.000000  97957.000000   97957.000000        99999.000000   \n",
       "mean         352.628512      9.939606      15.567718           73.260337   \n",
       "std           78.478559     20.706386      81.849269           30.033999   \n",
       "min           27.030000      1.000000       1.000000            0.000000   \n",
       "25%          298.430000      2.000000       3.000000           52.310000   \n",
       "50%          353.340000      4.000000       6.000000           71.110000   \n",
       "75%          410.385000     10.000000      14.000000           91.840000   \n",
       "max          927.020000   1078.000000    7272.000000          294.420000   \n",
       "\n",
       "                HBA           HBD  Aromatic Rings  Inorganic Flag  \\\n",
       "count  99999.000000  99999.000000    99999.000000    99999.000000   \n",
       "mean       4.765718      1.353534        2.211582       -0.991960   \n",
       "std        1.821115      1.102102        1.048502        0.089306   \n",
       "min        0.000000      0.000000        0.000000       -1.000000   \n",
       "25%        3.000000      1.000000        2.000000       -1.000000   \n",
       "50%        5.000000      1.000000        2.000000       -1.000000   \n",
       "75%        6.000000      2.000000        3.000000       -1.000000   \n",
       "max       10.000000      5.000000        7.000000        0.000000   \n",
       "\n",
       "        Heavy Atoms  #Rotatable Bonds  \n",
       "count  99999.000000      99999.000000  \n",
       "mean      24.539665          4.647526  \n",
       "std        5.540197          2.489056  \n",
       "min        1.000000          0.000000  \n",
       "25%       21.000000          3.000000  \n",
       "50%       25.000000          4.000000  \n",
       "75%       29.000000          6.000000  \n",
       "max       37.000000         24.000000  "
      ]
     },
     "execution_count": 19,
     "metadata": {},
     "output_type": "execute_result"
    }
   ],
   "source": [
    "filtered_df.describe()"
   ]
  },
  {
   "cell_type": "code",
   "execution_count": 20,
   "metadata": {},
   "outputs": [
    {
     "data": {
      "text/plain": [
       "Molecular Weight      17214\n",
       "Targets                 275\n",
       "Bioactivities           481\n",
       "Polar Surface Area     9784\n",
       "HBA                      11\n",
       "HBD                       6\n",
       "Aromatic Rings            8\n",
       "Inorganic Flag            2\n",
       "Heavy Atoms              37\n",
       "#Rotatable Bonds         25\n",
       "dtype: int64"
      ]
     },
     "execution_count": 20,
     "metadata": {},
     "output_type": "execute_result"
    }
   ],
   "source": [
    "filtered_df.nunique()"
   ]
  },
  {
   "cell_type": "markdown",
   "metadata": {},
   "source": [
    "Before we go any further, let me explain to you what the columns mean. "
   ]
  },
  {
   "cell_type": "markdown",
   "metadata": {},
   "source": [
    "**Molecular Weight** - molecular weight of the parent form of the moleculie <br>\n",
    "**Targets** - the biochemical entity to which the drug first binds in the body to elicit its effect <br>\n",
    "**Bioactivities** - reactivity with biological matter<br>\n",
    "**Polar Surface Area** - defined as the surface sum over all polar atoms or molecules including their attached hydrogen atoms;commonly used medicinal chemistry metric for the optimization of a drug's ability to permeate cells<br>\n",
    "**HBA** - count of the number of Hydrogen Bond Acceptors <br>\n",
    "**HBD** - count of the number of Hydrogen Bond Donors <br>\n",
    "**Aromatic Rings** - the number of aromatic rings in the molecule <br>\n",
    "**Inorganic Flag** - whether an inorganic compound is in the moecule <br>\n",
    "**Heavy_Atoms** - the number of non-hydrogen atoms in the molecule <br>\n",
    "**Rotatable Bonds** - how many bonds can be rotated"
   ]
  },
  {
   "cell_type": "markdown",
   "metadata": {},
   "source": [
    "## Exploratory Data Analysis (EDA)"
   ]
  },
  {
   "cell_type": "markdown",
   "metadata": {},
   "source": [
    "We have not talked about exploratory data analysis (EDA) just yet, so our first task is to define it:\n",
    "\n",
    "EDA is a process of examining data sets to see what they can tell us. It is not a formal statistical technique, but rather a set of heuristics for understanding the data and what it might mean. EDA is often used in the early stages of an investigation or research project to get an idea about the data, identify patterns and outliers, and develop hypotheses about relationships between variables.\n",
    "\n",
    "The goal of EDA is to provide new insights into the dataset that would not be possible from just looking at summary statistics or plots of the data."
   ]
  },
  {
   "cell_type": "code",
   "execution_count": 21,
   "metadata": {},
   "outputs": [
    {
     "data": {
      "text/plain": [
       "Molecular Weight         0\n",
       "Targets               2042\n",
       "Bioactivities         2042\n",
       "Polar Surface Area       0\n",
       "HBA                      0\n",
       "HBD                      0\n",
       "Aromatic Rings           0\n",
       "Inorganic Flag           0\n",
       "Heavy Atoms              0\n",
       "#Rotatable Bonds         0\n",
       "dtype: int64"
      ]
     },
     "execution_count": 21,
     "metadata": {},
     "output_type": "execute_result"
    }
   ],
   "source": [
    "filtered_df.isnull().sum()"
   ]
  },
  {
   "cell_type": "code",
   "execution_count": 22,
   "metadata": {},
   "outputs": [
    {
     "data": {
      "text/plain": [
       "<AxesSubplot:>"
      ]
     },
     "execution_count": 22,
     "metadata": {},
     "output_type": "execute_result"
    },
    {
     "data": {
      "image/png": "[encoded data removed]",
      "text/plain": [
       "<Figure size 432x288 with 2 Axes>"
      ]
     },
     "metadata": {
      "needs_background": "light"
     },
     "output_type": "display_data"
    }
   ],
   "source": [
    "import seaborn as sns\n",
    "corr = filtered_df.corr()\n",
    "sns.heatmap(corr)"
   ]
  },
  {
   "cell_type": "markdown",
   "metadata": {},
   "source": [
    "Some of these correlations make sense. \n",
    "High molecular weight would correspond with:\n",
    "1. Heavy Atoms \n",
    "2. Number of rotatable bonds (you will have more bonds to rotate)\n",
    "3. Large polar surface area "
   ]
  },
  {
   "cell_type": "markdown",
   "metadata": {},
   "source": [
    "## Feature engineering"
   ]
  },
  {
   "cell_type": "markdown",
   "metadata": {},
   "source": [
    "Feature engineering is *very* project specific, so it is hard to generalize. However, here are some things that I can suggest: <br><br>\n",
    "1. dates - are there trends among years, months, days of the month? Seasonality?\n",
    "2. aggregates - are you looking at items bought? is there a trend among when they buy goods? "
   ]
  },
  {
   "cell_type": "markdown",
   "metadata": {},
   "source": [
    "This particular project does not have a whole lot to feature engineer. We have characteristics of small compounds in our dataset, so there is\n",
    "not much else we could extract. "
   ]
  },
  {
   "cell_type": "code",
   "execution_count": 31,
   "metadata": {},
   "outputs": [
    {
     "data": {
      "text/plain": [
       "Molecular Weight      float64\n",
       "Targets               float64\n",
       "Bioactivities         float64\n",
       "Polar Surface Area    float64\n",
       "HBA                     int64\n",
       "HBD                     int64\n",
       "Aromatic Rings          int64\n",
       "Inorganic Flag          int64\n",
       "Heavy Atoms             int64\n",
       "#Rotatable Bonds        int64\n",
       "dtype: object"
      ]
     },
     "execution_count": 31,
     "metadata": {},
     "output_type": "execute_result"
    }
   ],
   "source": [
    "filtered_df.dtypes"
   ]
  },
  {
   "cell_type": "markdown",
   "metadata": {},
   "source": [
    "Before we can do kmeans, we need to remove all of the null values. This is a standard procedure for most machine learning methods. "
   ]
  },
  {
   "cell_type": "code",
   "execution_count": 32,
   "metadata": {},
   "outputs": [
    {
     "name": "stderr",
     "output_type": "stream",
     "text": [
      "/var/folders/cj/hrhd1p993b156lcvtr84zr8h0000gn/T/ipykernel_94745/724713040.py:1: SettingWithCopyWarning: \n",
      "A value is trying to be set on a copy of a slice from a DataFrame\n",
      "\n",
      "See the caveats in the documentation: https://pandas.pydata.org/pandas-docs/stable/user_guide/indexing.html#returning-a-view-versus-a-copy\n",
      "  filtered_df.dropna(inplace=True)\n"
     ]
    }
   ],
   "source": [
    "filtered_df.dropna(inplace=True)"
   ]
  },
  {
   "cell_type": "markdown",
   "metadata": {},
   "source": [
    "\n",
    "## Training"
   ]
  },
  {
   "cell_type": "code",
   "execution_count": 33,
   "metadata": {},
   "outputs": [
    {
     "data": {
      "image/png": "[encoded data removed]",
      "text/plain": [
       "<Figure size 432x288 with 1 Axes>"
      ]
     },
     "metadata": {
      "needs_background": "light"
     },
     "output_type": "display_data"
    }
   ],
   "source": [
    "from sklearn.cluster import KMeans\n",
    "import matplotlib.pyplot as plt\n",
    "\n",
    "Sum_of_squared_distances = []\n",
    "K = range(1,10,1)\n",
    "for num_clusters in K :\n",
    " kmeans = KMeans(n_clusters=num_clusters)\n",
    " kmeans.fit(filtered_df)\n",
    " Sum_of_squared_distances.append(kmeans.inertia_)\n",
    "plt.plot(K,Sum_of_squared_distances,'bx-')\n",
    "plt.xlabel('Values of K') \n",
    "plt.ylabel('Sum of squared distances/Inertia') \n",
    "plt.title('Elbow Method For Optimal k')\n",
    "plt.show()\n",
    "  "
   ]
  },
  {
   "cell_type": "code",
   "execution_count": 34,
   "metadata": {},
   "outputs": [
    {
     "data": {
      "image/png": "[encoded data removed]",
      "text/plain": [
       "<Figure size 432x288 with 1 Axes>"
      ]
     },
     "metadata": {
      "needs_background": "light"
     },
     "output_type": "display_data"
    }
   ],
   "source": [
    "from sklearn.metrics import silhouette_score\n",
    "range_n_clusters = [2, 3, 4, 5, 6, 7, 8]\n",
    "silhouette_avg = []\n",
    "for num_clusters in range_n_clusters:\n",
    " \n",
    " # initialise kmeans\n",
    " kmeans = KMeans(n_clusters=num_clusters)\n",
    " kmeans.fit(filtered_df)\n",
    " cluster_labels = kmeans.labels_\n",
    " \n",
    " # silhouette score\n",
    " silhouette_avg.append(silhouette_score(filtered_df, cluster_labels))\n",
    "\n",
    "plt.plot(range_n_clusters,silhouette_avg,'bx-')\n",
    "plt.xlabel('Values of K') \n",
    "plt.ylabel('Silhouette score') \n",
    "plt.title('Silhouette analysis For Optimal k')\n",
    "plt.show()"
   ]
  },
  {
   "cell_type": "markdown",
   "metadata": {},
   "source": [
    "Between these two plots, I would use **k=3**. interesting to note is that the elbow method (first one) took 3 seconds whereas silhoutte score took ~11 mins.  If you have a ton of data, I would suggest going the elbow route. "
   ]
  },
  {
   "cell_type": "code",
   "execution_count": 36,
   "metadata": {},
   "outputs": [],
   "source": [
    "kmeans = KMeans(n_clusters=3)\n",
    "labels = kmeans.fit_predict(filtered_df)"
   ]
  },
  {
   "cell_type": "code",
   "execution_count": 39,
   "metadata": {},
   "outputs": [
    {
     "name": "stderr",
     "output_type": "stream",
     "text": [
      "/var/folders/cj/hrhd1p993b156lcvtr84zr8h0000gn/T/ipykernel_94745/2041583613.py:1: SettingWithCopyWarning: \n",
      "A value is trying to be set on a copy of a slice from a DataFrame.\n",
      "Try using .loc[row_indexer,col_indexer] = value instead\n",
      "\n",
      "See the caveats in the documentation: https://pandas.pydata.org/pandas-docs/stable/user_guide/indexing.html#returning-a-view-versus-a-copy\n",
      "  filtered_df['cluster_labels'] = labels\n"
     ]
    }
   ],
   "source": [
    "filtered_df['cluster_labels'] = labels"
   ]
  },
  {
   "cell_type": "code",
   "execution_count": 42,
   "metadata": {},
   "outputs": [
    {
     "data": {
      "text/html": [
       "<div>\n",
       "<style scoped>\n",
       "    .dataframe tbody tr th:only-of-type {\n",
       "        vertical-align: middle;\n",
       "    }\n",
       "\n",
       "    .dataframe tbody tr th {\n",
       "        vertical-align: top;\n",
       "    }\n",
       "\n",
       "    .dataframe thead th {\n",
       "        text-align: right;\n",
       "    }\n",
       "</style>\n",
       "<table border=\"1\" class=\"dataframe\">\n",
       "  <thead>\n",
       "    <tr style=\"text-align: right;\">\n",
       "      <th></th>\n",
       "      <th>Molecular Weight</th>\n",
       "      <th>Targets</th>\n",
       "      <th>Bioactivities</th>\n",
       "      <th>Polar Surface Area</th>\n",
       "      <th>HBA</th>\n",
       "      <th>HBD</th>\n",
       "      <th>Aromatic Rings</th>\n",
       "      <th>Inorganic Flag</th>\n",
       "      <th>Heavy Atoms</th>\n",
       "      <th>#Rotatable Bonds</th>\n",
       "    </tr>\n",
       "    <tr>\n",
       "      <th>cluster_labels</th>\n",
       "      <th></th>\n",
       "      <th></th>\n",
       "      <th></th>\n",
       "      <th></th>\n",
       "      <th></th>\n",
       "      <th></th>\n",
       "      <th></th>\n",
       "      <th></th>\n",
       "      <th></th>\n",
       "      <th></th>\n",
       "    </tr>\n",
       "  </thead>\n",
       "  <tbody>\n",
       "    <tr>\n",
       "      <th>0</th>\n",
       "      <td>298.37</td>\n",
       "      <td>5.0</td>\n",
       "      <td>7.0</td>\n",
       "      <td>58.91</td>\n",
       "      <td>4.0</td>\n",
       "      <td>1.0</td>\n",
       "      <td>2.0</td>\n",
       "      <td>-1.0</td>\n",
       "      <td>21.0</td>\n",
       "      <td>3.0</td>\n",
       "    </tr>\n",
       "    <tr>\n",
       "      <th>1</th>\n",
       "      <td>409.49</td>\n",
       "      <td>4.0</td>\n",
       "      <td>6.0</td>\n",
       "      <td>83.56</td>\n",
       "      <td>5.0</td>\n",
       "      <td>1.0</td>\n",
       "      <td>3.0</td>\n",
       "      <td>-1.0</td>\n",
       "      <td>29.0</td>\n",
       "      <td>6.0</td>\n",
       "    </tr>\n",
       "    <tr>\n",
       "      <th>2</th>\n",
       "      <td>314.41</td>\n",
       "      <td>221.0</td>\n",
       "      <td>2231.0</td>\n",
       "      <td>72.83</td>\n",
       "      <td>4.0</td>\n",
       "      <td>1.0</td>\n",
       "      <td>2.0</td>\n",
       "      <td>0.0</td>\n",
       "      <td>22.0</td>\n",
       "      <td>4.0</td>\n",
       "    </tr>\n",
       "  </tbody>\n",
       "</table>\n",
       "</div>"
      ],
      "text/plain": [
       "                Molecular Weight  Targets  Bioactivities  Polar Surface Area  \\\n",
       "cluster_labels                                                                 \n",
       "0                         298.37      5.0            7.0               58.91   \n",
       "1                         409.49      4.0            6.0               83.56   \n",
       "2                         314.41    221.0         2231.0               72.83   \n",
       "\n",
       "                HBA  HBD  Aromatic Rings  Inorganic Flag  Heavy Atoms  \\\n",
       "cluster_labels                                                          \n",
       "0               4.0  1.0             2.0            -1.0         21.0   \n",
       "1               5.0  1.0             3.0            -1.0         29.0   \n",
       "2               4.0  1.0             2.0             0.0         22.0   \n",
       "\n",
       "                #Rotatable Bonds  \n",
       "cluster_labels                    \n",
       "0                            3.0  \n",
       "1                            6.0  \n",
       "2                            4.0  "
      ]
     },
     "execution_count": 42,
     "metadata": {},
     "output_type": "execute_result"
    }
   ],
   "source": [
    "filtered_df.groupby('cluster_labels').median()"
   ]
  },
  {
   "cell_type": "code",
   "execution_count": 50,
   "metadata": {},
   "outputs": [
    {
     "name": "stderr",
     "output_type": "stream",
     "text": [
      "/Users/silvergenova/Library/Python/3.8/lib/python/site-packages/pandas/plotting/_matplotlib/core.py:278: UserWarning: 'color' and 'colormap' cannot be used simultaneously. Using 'color'\n",
      "  warnings.warn(\n",
      "/Users/silvergenova/Library/Python/3.8/lib/python/site-packages/pandas/plotting/_matplotlib/style.py:123: UserWarning: 'color' and 'colormap' cannot be used simultaneously. Using 'color'\n",
      "  warnings.warn(\n"
     ]
    },
    {
     "ename": "ValueError",
     "evalue": "Invalid color 0",
     "output_type": "error",
     "traceback": [
      "\u001b[0;31m---------------------------------------------------------------------------\u001b[0m",
      "\u001b[0;31mValueError\u001b[0m                                Traceback (most recent call last)",
      "\u001b[1;32m/Users/silvergenova/Documents/GitHub/machine-learning-101/unsupervised-learning/k-means-clustering/chemical-analysis.ipynb Cell 34'\u001b[0m in \u001b[0;36m<cell line: 1>\u001b[0;34m()\u001b[0m\n\u001b[0;32m----> <a href='vscode-notebook-cell:/Users/silvergenova/Documents/GitHub/machine-learning-101/unsupervised-learning/k-means-clustering/chemical-analysis.ipynb#ch0000046?line=0'>1</a>\u001b[0m filtered_df\u001b[39m.\u001b[39;49mplot(subplots\u001b[39m=\u001b[39;49m\u001b[39mTrue\u001b[39;49;00m,color\u001b[39m=\u001b[39;49mfiltered_df\u001b[39m.\u001b[39;49mcluster_labels, cmap\u001b[39m=\u001b[39;49m\u001b[39m'\u001b[39;49m\u001b[39mSet3\u001b[39;49m\u001b[39m'\u001b[39;49m)\n",
      "File \u001b[0;32m~/Library/Python/3.8/lib/python/site-packages/pandas/plotting/_core.py:972\u001b[0m, in \u001b[0;36mPlotAccessor.__call__\u001b[0;34m(self, *args, **kwargs)\u001b[0m\n\u001b[1;32m    969\u001b[0m             label_name \u001b[39m=\u001b[39m label_kw \u001b[39mor\u001b[39;00m data\u001b[39m.\u001b[39mcolumns\n\u001b[1;32m    970\u001b[0m             data\u001b[39m.\u001b[39mcolumns \u001b[39m=\u001b[39m label_name\n\u001b[0;32m--> 972\u001b[0m \u001b[39mreturn\u001b[39;00m plot_backend\u001b[39m.\u001b[39;49mplot(data, kind\u001b[39m=\u001b[39;49mkind, \u001b[39m*\u001b[39;49m\u001b[39m*\u001b[39;49mkwargs)\n",
      "File \u001b[0;32m~/Library/Python/3.8/lib/python/site-packages/pandas/plotting/_matplotlib/__init__.py:71\u001b[0m, in \u001b[0;36mplot\u001b[0;34m(data, kind, **kwargs)\u001b[0m\n\u001b[1;32m     69\u001b[0m         kwargs[\u001b[39m\"\u001b[39m\u001b[39max\u001b[39m\u001b[39m\"\u001b[39m] \u001b[39m=\u001b[39m \u001b[39mgetattr\u001b[39m(ax, \u001b[39m\"\u001b[39m\u001b[39mleft_ax\u001b[39m\u001b[39m\"\u001b[39m, ax)\n\u001b[1;32m     70\u001b[0m plot_obj \u001b[39m=\u001b[39m PLOT_CLASSES[kind](data, \u001b[39m*\u001b[39m\u001b[39m*\u001b[39mkwargs)\n\u001b[0;32m---> 71\u001b[0m plot_obj\u001b[39m.\u001b[39;49mgenerate()\n\u001b[1;32m     72\u001b[0m plot_obj\u001b[39m.\u001b[39mdraw()\n\u001b[1;32m     73\u001b[0m \u001b[39mreturn\u001b[39;00m plot_obj\u001b[39m.\u001b[39mresult\n",
      "File \u001b[0;32m~/Library/Python/3.8/lib/python/site-packages/pandas/plotting/_matplotlib/core.py:329\u001b[0m, in \u001b[0;36mMPLPlot.generate\u001b[0;34m(self)\u001b[0m\n\u001b[1;32m    327\u001b[0m \u001b[39mself\u001b[39m\u001b[39m.\u001b[39m_compute_plot_data()\n\u001b[1;32m    328\u001b[0m \u001b[39mself\u001b[39m\u001b[39m.\u001b[39m_setup_subplots()\n\u001b[0;32m--> 329\u001b[0m \u001b[39mself\u001b[39;49m\u001b[39m.\u001b[39;49m_make_plot()\n\u001b[1;32m    330\u001b[0m \u001b[39mself\u001b[39m\u001b[39m.\u001b[39m_add_table()\n\u001b[1;32m    331\u001b[0m \u001b[39mself\u001b[39m\u001b[39m.\u001b[39m_make_legend()\n",
      "File \u001b[0;32m~/Library/Python/3.8/lib/python/site-packages/pandas/plotting/_matplotlib/core.py:1213\u001b[0m, in \u001b[0;36mLinePlot._make_plot\u001b[0;34m(self)\u001b[0m\n\u001b[1;32m   1210\u001b[0m stacking_id \u001b[39m=\u001b[39m \u001b[39mself\u001b[39m\u001b[39m.\u001b[39m_get_stacking_id()\n\u001b[1;32m   1211\u001b[0m is_errorbar \u001b[39m=\u001b[39m com\u001b[39m.\u001b[39many_not_none(\u001b[39m*\u001b[39m\u001b[39mself\u001b[39m\u001b[39m.\u001b[39merrors\u001b[39m.\u001b[39mvalues())\n\u001b[0;32m-> 1213\u001b[0m colors \u001b[39m=\u001b[39m \u001b[39mself\u001b[39;49m\u001b[39m.\u001b[39;49m_get_colors()\n\u001b[1;32m   1214\u001b[0m \u001b[39mfor\u001b[39;00m i, (label, y) \u001b[39min\u001b[39;00m \u001b[39menumerate\u001b[39m(it):\n\u001b[1;32m   1215\u001b[0m     ax \u001b[39m=\u001b[39m \u001b[39mself\u001b[39m\u001b[39m.\u001b[39m_get_ax(i)\n",
      "File \u001b[0;32m~/Library/Python/3.8/lib/python/site-packages/pandas/plotting/_matplotlib/core.py:842\u001b[0m, in \u001b[0;36mMPLPlot._get_colors\u001b[0;34m(self, num_colors, color_kwds)\u001b[0m\n\u001b[1;32m    839\u001b[0m \u001b[39mif\u001b[39;00m num_colors \u001b[39mis\u001b[39;00m \u001b[39mNone\u001b[39;00m:\n\u001b[1;32m    840\u001b[0m     num_colors \u001b[39m=\u001b[39m \u001b[39mself\u001b[39m\u001b[39m.\u001b[39mnseries\n\u001b[0;32m--> 842\u001b[0m \u001b[39mreturn\u001b[39;00m get_standard_colors(\n\u001b[1;32m    843\u001b[0m     num_colors\u001b[39m=\u001b[39;49mnum_colors,\n\u001b[1;32m    844\u001b[0m     colormap\u001b[39m=\u001b[39;49m\u001b[39mself\u001b[39;49m\u001b[39m.\u001b[39;49mcolormap,\n\u001b[1;32m    845\u001b[0m     color\u001b[39m=\u001b[39;49m\u001b[39mself\u001b[39;49m\u001b[39m.\u001b[39;49mkwds\u001b[39m.\u001b[39;49mget(color_kwds),\n\u001b[1;32m    846\u001b[0m )\n",
      "File \u001b[0;32m~/Library/Python/3.8/lib/python/site-packages/pandas/plotting/_matplotlib/style.py:70\u001b[0m, in \u001b[0;36mget_standard_colors\u001b[0;34m(num_colors, colormap, color_type, color)\u001b[0m\n\u001b[1;32m     67\u001b[0m \u001b[39mif\u001b[39;00m \u001b[39misinstance\u001b[39m(color, \u001b[39mdict\u001b[39m):\n\u001b[1;32m     68\u001b[0m     \u001b[39mreturn\u001b[39;00m color\n\u001b[0;32m---> 70\u001b[0m colors \u001b[39m=\u001b[39m _derive_colors(\n\u001b[1;32m     71\u001b[0m     color\u001b[39m=\u001b[39;49mcolor,\n\u001b[1;32m     72\u001b[0m     colormap\u001b[39m=\u001b[39;49mcolormap,\n\u001b[1;32m     73\u001b[0m     color_type\u001b[39m=\u001b[39;49mcolor_type,\n\u001b[1;32m     74\u001b[0m     num_colors\u001b[39m=\u001b[39;49mnum_colors,\n\u001b[1;32m     75\u001b[0m )\n\u001b[1;32m     77\u001b[0m \u001b[39mreturn\u001b[39;00m \u001b[39mlist\u001b[39m(_cycle_colors(colors, num_colors\u001b[39m=\u001b[39mnum_colors))\n",
      "File \u001b[0;32m~/Library/Python/3.8/lib/python/site-packages/pandas/plotting/_matplotlib/style.py:126\u001b[0m, in \u001b[0;36m_derive_colors\u001b[0;34m(color, colormap, color_type, num_colors)\u001b[0m\n\u001b[1;32m    122\u001b[0m     \u001b[39mif\u001b[39;00m colormap \u001b[39mis\u001b[39;00m \u001b[39mnot\u001b[39;00m \u001b[39mNone\u001b[39;00m:\n\u001b[1;32m    123\u001b[0m         warnings\u001b[39m.\u001b[39mwarn(\n\u001b[1;32m    124\u001b[0m             \u001b[39m\"\u001b[39m\u001b[39m'\u001b[39m\u001b[39mcolor\u001b[39m\u001b[39m'\u001b[39m\u001b[39m and \u001b[39m\u001b[39m'\u001b[39m\u001b[39mcolormap\u001b[39m\u001b[39m'\u001b[39m\u001b[39m cannot be used simultaneously. Using \u001b[39m\u001b[39m'\u001b[39m\u001b[39mcolor\u001b[39m\u001b[39m'\u001b[39m\u001b[39m\"\u001b[39m\n\u001b[1;32m    125\u001b[0m         )\n\u001b[0;32m--> 126\u001b[0m     \u001b[39mreturn\u001b[39;00m _get_colors_from_color(color)\n\u001b[1;32m    127\u001b[0m \u001b[39melse\u001b[39;00m:\n\u001b[1;32m    128\u001b[0m     \u001b[39mreturn\u001b[39;00m _get_colors_from_color_type(color_type, num_colors\u001b[39m=\u001b[39mnum_colors)\n",
      "File \u001b[0;32m~/Library/Python/3.8/lib/python/site-packages/pandas/plotting/_matplotlib/style.py:172\u001b[0m, in \u001b[0;36m_get_colors_from_color\u001b[0;34m(color)\u001b[0m\n\u001b[1;32m    169\u001b[0m     \u001b[39mreturn\u001b[39;00m [color]\n\u001b[1;32m    171\u001b[0m color \u001b[39m=\u001b[39m cast(Collection[Color], color)\n\u001b[0;32m--> 172\u001b[0m \u001b[39mreturn\u001b[39;00m \u001b[39mlist\u001b[39;49m(_gen_list_of_colors_from_iterable(color))\n",
      "File \u001b[0;32m~/Library/Python/3.8/lib/python/site-packages/pandas/plotting/_matplotlib/style.py:205\u001b[0m, in \u001b[0;36m_gen_list_of_colors_from_iterable\u001b[0;34m(color)\u001b[0m\n\u001b[1;32m    203\u001b[0m     \u001b[39myield\u001b[39;00m x\n\u001b[1;32m    204\u001b[0m \u001b[39melse\u001b[39;00m:\n\u001b[0;32m--> 205\u001b[0m     \u001b[39mraise\u001b[39;00m \u001b[39mValueError\u001b[39;00m(\u001b[39mf\u001b[39m\u001b[39m\"\u001b[39m\u001b[39mInvalid color \u001b[39m\u001b[39m{\u001b[39;00mx\u001b[39m}\u001b[39;00m\u001b[39m\"\u001b[39m)\n",
      "\u001b[0;31mValueError\u001b[0m: Invalid color 0"
     ]
    },
    {
     "data": {
      "image/png": "[encoded data removed]",
      "text/plain": [
       "<Figure size 432x288 with 11 Axes>"
      ]
     },
     "metadata": {
      "needs_background": "light"
     },
     "output_type": "display_data"
    }
   ],
   "source": [
    "filtered_df.plot(subplots=True,color=filtered_df.cluster_labels, cmap='Set3')"
   ]
  },
  {
   "cell_type": "markdown",
   "metadata": {},
   "source": [
    "**References**\n",
    "\n",
    "Mendez D, Gaulton A, Bento AP, Chambers J, De Veij M, F√©lix E, Magari√±os MP, Mosquera JF, Mutowo P, Nowotka M, Gordillo-Mara√±√≥n M, Hunter F, Junco L, Mugumbate G, Rodriguez-Lopez M, Atkinson F, Bosc N, Radoux CJ, Segura-Cabrera A, Hersey A, Leach AR. ChEMBL: towards direct deposition of bioassay data. Nucleic Acids Res. 2019 47(D1):D930-D940. DOI: 10.1093/nar/gky1075"
   ]
  }
 ],
 "metadata": {
  "kernelspec": {
   "display_name": "Python 3.8.9 64-bit",
   "language": "python",
   "name": "python3"
  },
  "language_info": {
   "codemirror_mode": {
    "name": "ipython",
    "version": 3
   },
   "file_extension": ".py",
   "mimetype": "text/x-python",
   "name": "python",
   "nbconvert_exporter": "python",
   "pygments_lexer": "ipython3",
   "version": "3.8.9"
  },
  "orig_nbformat": 4,
  "vscode": {
   "interpreter": {
    "hash": "31f2aee4e71d21fbe5cf8b01ff0e069b9275f58929596ceb00d14d90e3e16cd6"
   }
  }
 },
 "nbformat": 4,
 "nbformat_minor": 2
}
