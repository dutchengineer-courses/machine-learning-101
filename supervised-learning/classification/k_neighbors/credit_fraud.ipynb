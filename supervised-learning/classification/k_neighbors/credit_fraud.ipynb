{
 "cells": [
  {
   "cell_type": "markdown",
   "metadata": {},
   "source": [
    "# Credit fraud\n"
   ]
  },
  {
   "cell_type": "markdown",
   "metadata": {},
   "source": [
    "In this example, I want to show you how to do a few things.\n",
    " \n",
    "1. Pull data from Kaggle\n",
    "2. Training a K-neighbors classifier model\n",
    "3. "
   ]
  },
  {
   "cell_type": "markdown",
   "metadata": {},
   "source": [
    "Before we can get the data, we need to make sure that we are setting up our environment. "
   ]
  },
  {
   "cell_type": "code",
   "execution_count": 7,
   "metadata": {},
   "outputs": [
    {
     "name": "stdout",
     "output_type": "stream",
     "text": [
      "Defaulting to user installation because normal site-packages is not writeable\n",
      "Requirement already satisfied: sklearn in /Users/silvergenova/Library/Python/3.8/lib/python/site-packages (from -r requirements.txt (line 1)) (0.0)\n",
      "Requirement already satisfied: dataprofiler in /Users/silvergenova/Library/Python/3.8/lib/python/site-packages (from -r requirements.txt (line 2)) (0.8.1)\n",
      "Requirement already satisfied: scikit-learn in /Users/silvergenova/Library/Python/3.8/lib/python/site-packages (from sklearn->-r requirements.txt (line 1)) (1.1.2)\n",
      "Requirement already satisfied: chardet>=3.0.4 in /Users/silvergenova/Library/Python/3.8/lib/python/site-packages (from dataprofiler->-r requirements.txt (line 2)) (4.0.0)\n",
      "Requirement already satisfied: charset-normalizer>=1.3.6 in /Users/silvergenova/Library/Python/3.8/lib/python/site-packages (from dataprofiler->-r requirements.txt (line 2)) (2.0.10)\n",
      "Requirement already satisfied: pytz>=2020.1 in /Users/silvergenova/Library/Python/3.8/lib/python/site-packages (from dataprofiler->-r requirements.txt (line 2)) (2021.3)\n",
      "Requirement already satisfied: python-dateutil>=2.7.5 in /Users/silvergenova/Library/Python/3.8/lib/python/site-packages (from dataprofiler->-r requirements.txt (line 2)) (2.8.2)\n",
      "Requirement already satisfied: requests==2.27.1 in /Users/silvergenova/Library/Python/3.8/lib/python/site-packages (from dataprofiler->-r requirements.txt (line 2)) (2.27.1)\n",
      "Requirement already satisfied: future>=0.18.2 in /Users/silvergenova/Library/Python/3.8/lib/python/site-packages (from dataprofiler->-r requirements.txt (line 2)) (0.18.2)\n",
      "Requirement already satisfied: six>=1.15.0 in /Library/Developer/CommandLineTools/Library/Frameworks/Python3.framework/Versions/3.8/lib/python3.8/site-packages (from dataprofiler->-r requirements.txt (line 2)) (1.15.0)\n",
      "Requirement already satisfied: pandas>=1.1.2 in /Users/silvergenova/Library/Python/3.8/lib/python/site-packages (from dataprofiler->-r requirements.txt (line 2)) (1.4.1)\n",
      "Requirement already satisfied: psutil>=4.0.0 in /Users/silvergenova/Library/Python/3.8/lib/python/site-packages (from dataprofiler->-r requirements.txt (line 2)) (5.9.0)\n",
      "Requirement already satisfied: wheel>=0.33.1 in /Library/Developer/CommandLineTools/Library/Frameworks/Python3.framework/Versions/3.8/lib/python3.8/site-packages (from dataprofiler->-r requirements.txt (line 2)) (0.33.1)\n",
      "Requirement already satisfied: python-snappy>=0.5.4 in /Users/silvergenova/Library/Python/3.8/lib/python/site-packages (from dataprofiler->-r requirements.txt (line 2)) (0.6.1)\n",
      "Requirement already satisfied: scipy>=1.4.1 in /Users/silvergenova/Library/Python/3.8/lib/python/site-packages (from dataprofiler->-r requirements.txt (line 2)) (1.8.0)\n",
      "Requirement already satisfied: numpy>=1.21.1 in /Users/silvergenova/Library/Python/3.8/lib/python/site-packages (from dataprofiler->-r requirements.txt (line 2)) (1.22.3)\n",
      "Requirement already satisfied: networkx==2.5.1 in /Users/silvergenova/Library/Python/3.8/lib/python/site-packages (from dataprofiler->-r requirements.txt (line 2)) (2.5.1)\n",
      "Requirement already satisfied: h5py>=2.10.0 in /Users/silvergenova/Library/Python/3.8/lib/python/site-packages (from dataprofiler->-r requirements.txt (line 2)) (3.7.0)\n",
      "Requirement already satisfied: fastavro>=1.0.0.post1 in /Users/silvergenova/Library/Python/3.8/lib/python/site-packages (from dataprofiler->-r requirements.txt (line 2)) (1.6.1)\n",
      "Requirement already satisfied: pyarrow>=1.0.1 in /Users/silvergenova/Library/Python/3.8/lib/python/site-packages (from dataprofiler->-r requirements.txt (line 2)) (9.0.0)\n",
      "Requirement already satisfied: decorator<5,>=4.3 in /Users/silvergenova/Library/Python/3.8/lib/python/site-packages (from networkx==2.5.1->dataprofiler->-r requirements.txt (line 2)) (4.4.2)\n",
      "Requirement already satisfied: idna<4,>=2.5 in /Users/silvergenova/Library/Python/3.8/lib/python/site-packages (from requests==2.27.1->dataprofiler->-r requirements.txt (line 2)) (3.3)\n",
      "Requirement already satisfied: certifi>=2017.4.17 in /Users/silvergenova/Library/Python/3.8/lib/python/site-packages (from requests==2.27.1->dataprofiler->-r requirements.txt (line 2)) (2021.10.8)\n",
      "Requirement already satisfied: urllib3<1.27,>=1.21.1 in /Users/silvergenova/Library/Python/3.8/lib/python/site-packages (from requests==2.27.1->dataprofiler->-r requirements.txt (line 2)) (1.26.8)\n",
      "Requirement already satisfied: joblib>=1.0.0 in /Users/silvergenova/Library/Python/3.8/lib/python/site-packages (from scikit-learn->sklearn->-r requirements.txt (line 1)) (1.0.1)\n",
      "Requirement already satisfied: threadpoolctl>=2.0.0 in /Users/silvergenova/Library/Python/3.8/lib/python/site-packages (from scikit-learn->sklearn->-r requirements.txt (line 1)) (3.1.0)\n",
      "\u001b[33mWARNING: You are using pip version 22.0.4; however, version 22.2.2 is available.\n",
      "You should consider upgrading via the '/Library/Developer/CommandLineTools/usr/bin/python3 -m pip install --upgrade pip' command.\u001b[0m\u001b[33m\n",
      "\u001b[0mNote: you may need to restart the kernel to use updated packages.\n"
     ]
    }
   ],
   "source": [
    "%pip install -r requirements.txt"
   ]
  },
  {
   "cell_type": "markdown",
   "metadata": {},
   "source": [
    "### Get Data"
   ]
  },
  {
   "cell_type": "markdown",
   "metadata": {},
   "source": [
    "https://www.kaggle.com/code/kelsead/anomaly-detection-credit-card-fraud/notebook"
   ]
  },
  {
   "cell_type": "markdown",
   "metadata": {},
   "source": [
    "**distance_from_home** - Distance from home where transaction occured <br>\n",
    "**distance_from_last_transaction** - Distance from where last transaction occured <br>\n",
    "**ratio_to_median_purchase_price** - Ratio of purchased price transaction to median purchase price <br>\n",
    "**repeat_retailer** - Has historically purchased from retailer (1 = Yes / 0 = No) <br>\n",
    "**used_chip** - Was chip used in transaction (1 = Yes / 0 = No) <br>\n",
    "**used_pin_number** - Was PIN used to complete transaction (1 = Yes / 0 = No) <br>\n",
    "**online_order** - Was transaction an online order (1 = Yes / 0 = No)<br>\n",
    "**fraud** - Was transaction fraudulent (1 = Yes / 0 = No) <br>"
   ]
  },
  {
   "cell_type": "code",
   "execution_count": 8,
   "metadata": {},
   "outputs": [],
   "source": [
    "import pandas as pd\n",
    "df = pd.read_csv('card_transdata.csv')"
   ]
  },
  {
   "cell_type": "code",
   "execution_count": 9,
   "metadata": {},
   "outputs": [
    {
     "data": {
      "text/plain": [
       "distance_from_home                0\n",
       "distance_from_last_transaction    0\n",
       "ratio_to_median_purchase_price    0\n",
       "repeat_retailer                   0\n",
       "used_chip                         0\n",
       "used_pin_number                   0\n",
       "online_order                      0\n",
       "fraud                             0\n",
       "dtype: int64"
      ]
     },
     "execution_count": 9,
     "metadata": {},
     "output_type": "execute_result"
    }
   ],
   "source": [
    "df.isnull().sum()"
   ]
  },
  {
   "cell_type": "code",
   "execution_count": 10,
   "metadata": {},
   "outputs": [
    {
     "name": "stdout",
     "output_type": "stream",
     "text": [
      "frauds : 8.7403 %\n",
      "non frauds : 91.2597 %\n"
     ]
    }
   ],
   "source": [
    "fraud = df[df['fraud'] == 1]\n",
    "nonFraud = df[df['fraud'] == 0]\n",
    "\n",
    "x = len(fraud)/len(df)\n",
    "y = len(nonFraud)/len(df)\n",
    "\n",
    "print('frauds :',x*100,'%')\n",
    "print('non frauds :',y*100,'%')"
   ]
  },
  {
   "cell_type": "code",
   "execution_count": 11,
   "metadata": {},
   "outputs": [
    {
     "data": {
      "text/html": [
       "<div>\n",
       "<style scoped>\n",
       "    .dataframe tbody tr th:only-of-type {\n",
       "        vertical-align: middle;\n",
       "    }\n",
       "\n",
       "    .dataframe tbody tr th {\n",
       "        vertical-align: top;\n",
       "    }\n",
       "\n",
       "    .dataframe thead th {\n",
       "        text-align: right;\n",
       "    }\n",
       "</style>\n",
       "<table border=\"1\" class=\"dataframe\">\n",
       "  <thead>\n",
       "    <tr style=\"text-align: right;\">\n",
       "      <th></th>\n",
       "      <th>distance_from_home</th>\n",
       "      <th>distance_from_last_transaction</th>\n",
       "      <th>ratio_to_median_purchase_price</th>\n",
       "      <th>repeat_retailer</th>\n",
       "      <th>used_chip</th>\n",
       "      <th>used_pin_number</th>\n",
       "      <th>online_order</th>\n",
       "      <th>fraud</th>\n",
       "    </tr>\n",
       "  </thead>\n",
       "  <tbody>\n",
       "    <tr>\n",
       "      <th>69842</th>\n",
       "      <td>20.586642</td>\n",
       "      <td>0.519156</td>\n",
       "      <td>8.333021</td>\n",
       "      <td>1.0</td>\n",
       "      <td>1.0</td>\n",
       "      <td>0.0</td>\n",
       "      <td>1.0</td>\n",
       "      <td>1.0</td>\n",
       "    </tr>\n",
       "    <tr>\n",
       "      <th>846820</th>\n",
       "      <td>133.313201</td>\n",
       "      <td>0.623433</td>\n",
       "      <td>0.380874</td>\n",
       "      <td>1.0</td>\n",
       "      <td>0.0</td>\n",
       "      <td>0.0</td>\n",
       "      <td>1.0</td>\n",
       "      <td>1.0</td>\n",
       "    </tr>\n",
       "    <tr>\n",
       "      <th>688626</th>\n",
       "      <td>114.680467</td>\n",
       "      <td>2.774010</td>\n",
       "      <td>0.065409</td>\n",
       "      <td>1.0</td>\n",
       "      <td>0.0</td>\n",
       "      <td>0.0</td>\n",
       "      <td>1.0</td>\n",
       "      <td>1.0</td>\n",
       "    </tr>\n",
       "    <tr>\n",
       "      <th>235418</th>\n",
       "      <td>7.342305</td>\n",
       "      <td>130.569766</td>\n",
       "      <td>0.775682</td>\n",
       "      <td>1.0</td>\n",
       "      <td>0.0</td>\n",
       "      <td>0.0</td>\n",
       "      <td>1.0</td>\n",
       "      <td>1.0</td>\n",
       "    </tr>\n",
       "    <tr>\n",
       "      <th>757239</th>\n",
       "      <td>18.823577</td>\n",
       "      <td>4.060858</td>\n",
       "      <td>5.362601</td>\n",
       "      <td>1.0</td>\n",
       "      <td>1.0</td>\n",
       "      <td>0.0</td>\n",
       "      <td>1.0</td>\n",
       "      <td>1.0</td>\n",
       "    </tr>\n",
       "  </tbody>\n",
       "</table>\n",
       "</div>"
      ],
      "text/plain": [
       "        distance_from_home  distance_from_last_transaction  \\\n",
       "69842            20.586642                        0.519156   \n",
       "846820          133.313201                        0.623433   \n",
       "688626          114.680467                        2.774010   \n",
       "235418            7.342305                      130.569766   \n",
       "757239           18.823577                        4.060858   \n",
       "\n",
       "        ratio_to_median_purchase_price  repeat_retailer  used_chip  \\\n",
       "69842                         8.333021              1.0        1.0   \n",
       "846820                        0.380874              1.0        0.0   \n",
       "688626                        0.065409              1.0        0.0   \n",
       "235418                        0.775682              1.0        0.0   \n",
       "757239                        5.362601              1.0        1.0   \n",
       "\n",
       "        used_pin_number  online_order  fraud  \n",
       "69842               0.0           1.0    1.0  \n",
       "846820              0.0           1.0    1.0  \n",
       "688626              0.0           1.0    1.0  \n",
       "235418              0.0           1.0    1.0  \n",
       "757239              0.0           1.0    1.0  "
      ]
     },
     "execution_count": 11,
     "metadata": {},
     "output_type": "execute_result"
    }
   ],
   "source": [
    "df = df.sample(frac=1)\n",
    "\n",
    "frauds = df[df['fraud'] == 1]\n",
    "non_frauds = df[df['fraud'] == 0][:492]\n",
    "\n",
    "new_df = pd.concat([non_frauds, frauds])\n",
    "# Shuffle dataframe rows\n",
    "new_df = new_df.sample(frac=1, random_state=42)\n",
    "\n",
    "new_df.head()"
   ]
  },
  {
   "cell_type": "markdown",
   "metadata": {},
   "source": [
    "### Train model"
   ]
  },
  {
   "cell_type": "code",
   "execution_count": 12,
   "metadata": {},
   "outputs": [],
   "source": [
    "# linear algebra \n",
    "import numpy as np\n",
    "\n",
    "# pyplot from matplotlib\n",
    "import matplotlib.pyplot as plt\n",
    "\n",
    "# import library to generate training and testing datasets\n",
    "from sklearn.model_selection import train_test_split\n",
    "\n",
    "# import library to help scale features in the datsets\n",
    "from sklearn.preprocessing import StandardScaler\n",
    "\n",
    "# import encoding library to transform data values\n",
    "from sklearn.preprocessing import LabelEncoder\n",
    "\n",
    "# import K Nearest Neighbors\n",
    "from sklearn.neighbors import KNeighborsClassifier\n",
    "from sklearn.preprocessing import normalize\n",
    "from matplotlib import pyplot as plt\n",
    "import matplotlib.gridspec as gridspec\n"
   ]
  },
  {
   "cell_type": "code",
   "execution_count": 13,
   "metadata": {},
   "outputs": [],
   "source": [
    "y = new_df['fraud']\n",
    "X = new_df.drop('fraud',axis=1)\n"
   ]
  },
  {
   "cell_type": "code",
   "execution_count": 14,
   "metadata": {},
   "outputs": [],
   "source": [
    "X_train,X_test,y_train,y_test = train_test_split(X,y,test_size=0.20)\n",
    "X_train = normalize(X_train)\n",
    "X_test=normalize(X_test)\n"
   ]
  },
  {
   "cell_type": "code",
   "execution_count": 15,
   "metadata": {},
   "outputs": [],
   "source": [
    "neighbours = np.arange(1,30)\n",
    "train_accuracy =np.empty(len(neighbours))\n",
    "test_accuracy = np.empty(len(neighbours))\n",
    "\n",
    "for i,k in enumerate(neighbours):\n",
    "    #Setup a knn classifier with k neighbors\n",
    "    knn=KNeighborsClassifier(n_neighbors=k,algorithm=\"kd_tree\",n_jobs=-1)\n",
    "    \n",
    "    #Fit the model\n",
    "    knn.fit(X_train,y_train.ravel())\n",
    "    \n",
    "    #Compute accuracy on the training set\n",
    "    train_accuracy[i] = knn.score(X_train, y_train.ravel())\n",
    "    \n",
    "    #Compute accuracy on the test set\n",
    "    test_accuracy[i] = knn.score(X_test, y_test.ravel()) "
   ]
  },
  {
   "cell_type": "code",
   "execution_count": 16,
   "metadata": {},
   "outputs": [
    {
     "data": {
      "image/png": "[encoded data removed]",
      "text/plain": [
       "<Figure size 432x288 with 1 Axes>"
      ]
     },
     "metadata": {
      "needs_background": "light"
     },
     "output_type": "display_data"
    }
   ],
   "source": [
    "#Generate plot\n",
    "plt.title('k-NN Varying number of neighbors')\n",
    "plt.plot(neighbours, test_accuracy, label='Testing Accuracy')\n",
    "plt.plot(neighbours, train_accuracy, label='Training accuracy')\n",
    "plt.legend()\n",
    "plt.xlabel('Number of neighbors')\n",
    "plt.ylabel('Accuracy')\n",
    "plt.show()"
   ]
  },
  {
   "cell_type": "code",
   "execution_count": 17,
   "metadata": {},
   "outputs": [],
   "source": [
    "idx = np.where(test_accuracy == max(test_accuracy))\n",
    "x = neighbours[idx]"
   ]
  },
  {
   "cell_type": "code",
   "execution_count": 18,
   "metadata": {},
   "outputs": [],
   "source": [
    "knn=KNeighborsClassifier(n_neighbors=x[0],algorithm=\"kd_tree\",n_jobs=-1)\n",
    "knn.fit(X_train,y_train.ravel())\n",
    "knn_predicted_test_labels=knn.predict(X_test)"
   ]
  },
  {
   "cell_type": "code",
   "execution_count": 19,
   "metadata": {},
   "outputs": [],
   "source": [
    "from sklearn.metrics import confusion_matrix,accuracy_score,precision_score,recall_score,f1_score,matthews_corrcoef,classification_report,roc_curve\n",
    "#scoring knn\n",
    "knn_accuracy_score  = accuracy_score(y_test,knn_predicted_test_labels)\n",
    "knn_precison_score  = precision_score(y_test,knn_predicted_test_labels)\n",
    "knn_recall_score    = recall_score(y_test,knn_predicted_test_labels)\n",
    "knn_f1_score        = f1_score(y_test,knn_predicted_test_labels)\n",
    "knn_MCC             = matthews_corrcoef(y_test,knn_predicted_test_labels)"
   ]
  },
  {
   "cell_type": "code",
   "execution_count": 20,
   "metadata": {},
   "outputs": [
    {
     "name": "stdout",
     "output_type": "stream",
     "text": [
      "K-Nearest Neighbours\n",
      "Scores\n",
      "Accuracy:  0.9977245577109051\n",
      "Precison:  0.9977155910908052\n",
      "Recall:  1.0\n",
      "F1:  0.9988564894225271\n",
      "MCC:  0.7947209757031833\n",
      "              precision    recall  f1-score   support\n",
      "\n",
      "         0.0       1.00      0.63      0.78       109\n",
      "         1.0       1.00      1.00      1.00     17470\n",
      "\n",
      "    accuracy                           1.00     17579\n",
      "   macro avg       1.00      0.82      0.89     17579\n",
      "weighted avg       1.00      1.00      1.00     17579\n",
      "\n"
     ]
    }
   ],
   "source": [
    "#printing\n",
    "print(\"K-Nearest Neighbours\")\n",
    "print(\"Scores\")\n",
    "print(\"Accuracy: \",knn_accuracy_score)\n",
    "print(\"Precison: \",knn_precison_score)\n",
    "print(\"Recall: \",knn_recall_score)\n",
    "print(\"F1: \",knn_f1_score)\n",
    "print(\"MCC: \",knn_MCC)\n",
    "print(classification_report(y_test,knn_predicted_test_labels))"
   ]
  },
  {
   "cell_type": "code",
   "execution_count": 21,
   "metadata": {},
   "outputs": [],
   "source": [
    "from sklearn.metrics import roc_curve, roc_auc_score\n",
    "\n",
    "false_positive_rate1, true_positive_rate1, threshold1 = roc_curve(y_test, knn_predicted_test_labels)"
   ]
  },
  {
   "cell_type": "code",
   "execution_count": null,
   "metadata": {},
   "outputs": [],
   "source": []
  },
  {
   "cell_type": "markdown",
   "metadata": {},
   "source": [
    "Now, For getting ROC_AUC score we can simply pass the test data and the predected data into the function ruc_auc_score. We are printing it with print statements for better understanding.\n"
   ]
  },
  {
   "cell_type": "code",
   "execution_count": 22,
   "metadata": {},
   "outputs": [
    {
     "name": "stdout",
     "output_type": "stream",
     "text": [
      "roc_auc_score for RandomForest:  0.8165137614678899\n"
     ]
    }
   ],
   "source": [
    " print('roc_auc_score for RandomForest: ', roc_auc_score(y_test, knn_predicted_test_labels))"
   ]
  },
  {
   "cell_type": "markdown",
   "metadata": {},
   "source": [
    "\n"
   ]
  }
 ],
 "metadata": {
  "kernelspec": {
   "display_name": "Python 3.8.9 64-bit",
   "language": "python",
   "name": "python3"
  },
  "language_info": {
   "codemirror_mode": {
    "name": "ipython",
    "version": 3
   },
   "file_extension": ".py",
   "mimetype": "text/x-python",
   "name": "python",
   "nbconvert_exporter": "python",
   "pygments_lexer": "ipython3",
   "version": "3.8.9"
  },
  "orig_nbformat": 4,
  "vscode": {
   "interpreter": {
    "hash": "31f2aee4e71d21fbe5cf8b01ff0e069b9275f58929596ceb00d14d90e3e16cd6"
   }
  }
 },
 "nbformat": 4,
 "nbformat_minor": 2
}
