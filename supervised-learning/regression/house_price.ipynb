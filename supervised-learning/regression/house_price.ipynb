{
 "cells": [
  {
   "cell_type": "markdown",
   "metadata": {},
   "source": [
    "# Predicting House Prices"
   ]
  },
  {
   "cell_type": "markdown",
   "metadata": {},
   "source": [
    "In this example, you will learn how to:\n",
    "1. How to run MLFlow locally\n",
    "2. Learn how to implement a RandomForestRegressor\n",
    "3. Perform hyperparamater tuning\n",
    "4. Identify the accuracy of the newly created model"
   ]
  },
  {
   "cell_type": "code",
   "execution_count": 1,
   "metadata": {},
   "outputs": [
    {
     "name": "stdout",
     "output_type": "stream",
     "text": [
      "Defaulting to user installation because normal site-packages is not writeable\n",
      "Requirement already satisfied: mlflow in /Users/silvergenova/Library/Python/3.8/lib/python/site-packages (from -r requirements.txt (line 1)) (1.29.0)\n",
      "Requirement already satisfied: sklearn in /Users/silvergenova/Library/Python/3.8/lib/python/site-packages (from -r requirements.txt (line 2)) (0.0)\n",
      "Requirement already satisfied: click<9,>=7.0 in /Users/silvergenova/Library/Python/3.8/lib/python/site-packages (from mlflow->-r requirements.txt (line 1)) (8.0.3)\n",
      "Requirement already satisfied: sqlparse<1,>=0.4.0 in /Users/silvergenova/Library/Python/3.8/lib/python/site-packages (from mlflow->-r requirements.txt (line 1)) (0.4.2)\n",
      "Requirement already satisfied: numpy<2 in /Users/silvergenova/Library/Python/3.8/lib/python/site-packages (from mlflow->-r requirements.txt (line 1)) (1.22.3)\n",
      "Requirement already satisfied: requests<3,>=2.17.3 in /Users/silvergenova/Library/Python/3.8/lib/python/site-packages (from mlflow->-r requirements.txt (line 1)) (2.27.1)\n",
      "Requirement already satisfied: Flask<3 in /Users/silvergenova/Library/Python/3.8/lib/python/site-packages (from mlflow->-r requirements.txt (line 1)) (1.1.2)\n",
      "Requirement already satisfied: querystring-parser<2 in /Users/silvergenova/Library/Python/3.8/lib/python/site-packages (from mlflow->-r requirements.txt (line 1)) (1.2.4)\n",
      "Requirement already satisfied: docker<7,>=4.0.0 in /Users/silvergenova/Library/Python/3.8/lib/python/site-packages (from mlflow->-r requirements.txt (line 1)) (6.0.0)\n",
      "Requirement already satisfied: pandas<2 in /Users/silvergenova/Library/Python/3.8/lib/python/site-packages (from mlflow->-r requirements.txt (line 1)) (1.4.1)\n",
      "Requirement already satisfied: scipy<2 in /Users/silvergenova/Library/Python/3.8/lib/python/site-packages (from mlflow->-r requirements.txt (line 1)) (1.8.0)\n",
      "Requirement already satisfied: alembic<2 in /Users/silvergenova/Library/Python/3.8/lib/python/site-packages (from mlflow->-r requirements.txt (line 1)) (1.8.1)\n",
      "Requirement already satisfied: databricks-cli<1,>=0.8.7 in /Users/silvergenova/Library/Python/3.8/lib/python/site-packages (from mlflow->-r requirements.txt (line 1)) (0.17.3)\n",
      "Requirement already satisfied: sqlalchemy<2,>=1.4.0 in /Users/silvergenova/Library/Python/3.8/lib/python/site-packages (from mlflow->-r requirements.txt (line 1)) (1.4.41)\n",
      "Requirement already satisfied: pyyaml<7,>=5.1 in /Users/silvergenova/Library/Python/3.8/lib/python/site-packages (from mlflow->-r requirements.txt (line 1)) (6.0)\n",
      "Requirement already satisfied: cloudpickle<3 in /Users/silvergenova/Library/Python/3.8/lib/python/site-packages (from mlflow->-r requirements.txt (line 1)) (2.1.0)\n",
      "Requirement already satisfied: entrypoints<1 in /Users/silvergenova/Library/Python/3.8/lib/python/site-packages (from mlflow->-r requirements.txt (line 1)) (0.4)\n",
      "Requirement already satisfied: prometheus-flask-exporter<1 in /Users/silvergenova/Library/Python/3.8/lib/python/site-packages (from mlflow->-r requirements.txt (line 1)) (0.20.3)\n",
      "Requirement already satisfied: packaging<22 in /Users/silvergenova/Library/Python/3.8/lib/python/site-packages (from mlflow->-r requirements.txt (line 1)) (20.9)\n",
      "Requirement already satisfied: protobuf<5,>=3.12.0 in /Users/silvergenova/Library/Python/3.8/lib/python/site-packages (from mlflow->-r requirements.txt (line 1)) (3.19.4)\n",
      "Requirement already satisfied: gunicorn<21 in /Users/silvergenova/Library/Python/3.8/lib/python/site-packages (from mlflow->-r requirements.txt (line 1)) (20.1.0)\n",
      "Requirement already satisfied: importlib-metadata!=4.7.0,<5,>=3.7.0 in /Users/silvergenova/Library/Python/3.8/lib/python/site-packages (from mlflow->-r requirements.txt (line 1)) (4.10.1)\n",
      "Requirement already satisfied: gitpython<4,>=2.1.0 in /Users/silvergenova/Library/Python/3.8/lib/python/site-packages (from mlflow->-r requirements.txt (line 1)) (3.1.27)\n",
      "Requirement already satisfied: pytz<2023 in /Users/silvergenova/Library/Python/3.8/lib/python/site-packages (from mlflow->-r requirements.txt (line 1)) (2021.3)\n",
      "Requirement already satisfied: scikit-learn in /Users/silvergenova/Library/Python/3.8/lib/python/site-packages (from sklearn->-r requirements.txt (line 2)) (1.1.2)\n",
      "Requirement already satisfied: Mako in /Users/silvergenova/Library/Python/3.8/lib/python/site-packages (from alembic<2->mlflow->-r requirements.txt (line 1)) (1.2.3)\n",
      "Requirement already satisfied: importlib-resources in /Users/silvergenova/Library/Python/3.8/lib/python/site-packages (from alembic<2->mlflow->-r requirements.txt (line 1)) (5.9.0)\n",
      "Requirement already satisfied: oauthlib>=3.1.0 in /Users/silvergenova/Library/Python/3.8/lib/python/site-packages (from databricks-cli<1,>=0.8.7->mlflow->-r requirements.txt (line 1)) (3.2.0)\n",
      "Requirement already satisfied: tabulate>=0.7.7 in /Users/silvergenova/Library/Python/3.8/lib/python/site-packages (from databricks-cli<1,>=0.8.7->mlflow->-r requirements.txt (line 1)) (0.8.10)\n",
      "Requirement already satisfied: pyjwt>=1.7.0 in /Users/silvergenova/Library/Python/3.8/lib/python/site-packages (from databricks-cli<1,>=0.8.7->mlflow->-r requirements.txt (line 1)) (2.3.0)\n",
      "Requirement already satisfied: six>=1.10.0 in /Library/Developer/CommandLineTools/Library/Frameworks/Python3.framework/Versions/3.8/lib/python3.8/site-packages (from databricks-cli<1,>=0.8.7->mlflow->-r requirements.txt (line 1)) (1.15.0)\n",
      "Requirement already satisfied: websocket-client>=0.32.0 in /Users/silvergenova/Library/Python/3.8/lib/python/site-packages (from docker<7,>=4.0.0->mlflow->-r requirements.txt (line 1)) (1.4.1)\n",
      "Requirement already satisfied: urllib3>=1.26.0 in /Users/silvergenova/Library/Python/3.8/lib/python/site-packages (from docker<7,>=4.0.0->mlflow->-r requirements.txt (line 1)) (1.26.8)\n",
      "Requirement already satisfied: Jinja2>=2.10.1 in /Users/silvergenova/Library/Python/3.8/lib/python/site-packages (from Flask<3->mlflow->-r requirements.txt (line 1)) (3.1.2)\n",
      "Requirement already satisfied: itsdangerous>=0.24 in /Users/silvergenova/Library/Python/3.8/lib/python/site-packages (from Flask<3->mlflow->-r requirements.txt (line 1)) (1.1.0)\n",
      "Requirement already satisfied: Werkzeug>=0.15 in /Users/silvergenova/Library/Python/3.8/lib/python/site-packages (from Flask<3->mlflow->-r requirements.txt (line 1)) (1.0.1)\n",
      "Requirement already satisfied: gitdb<5,>=4.0.1 in /Users/silvergenova/Library/Python/3.8/lib/python/site-packages (from gitpython<4,>=2.1.0->mlflow->-r requirements.txt (line 1)) (4.0.9)\n",
      "Requirement already satisfied: setuptools>=3.0 in /Library/Developer/CommandLineTools/Library/Frameworks/Python3.framework/Versions/3.8/lib/python3.8/site-packages (from gunicorn<21->mlflow->-r requirements.txt (line 1)) (49.2.1)\n",
      "Requirement already satisfied: zipp>=0.5 in /Users/silvergenova/Library/Python/3.8/lib/python/site-packages (from importlib-metadata!=4.7.0,<5,>=3.7.0->mlflow->-r requirements.txt (line 1)) (3.7.0)\n",
      "Requirement already satisfied: pyparsing>=2.0.2 in /Users/silvergenova/Library/Python/3.8/lib/python/site-packages (from packaging<22->mlflow->-r requirements.txt (line 1)) (3.0.6)\n",
      "Requirement already satisfied: python-dateutil>=2.8.1 in /Users/silvergenova/Library/Python/3.8/lib/python/site-packages (from pandas<2->mlflow->-r requirements.txt (line 1)) (2.8.2)\n",
      "Requirement already satisfied: prometheus-client in /Users/silvergenova/Library/Python/3.8/lib/python/site-packages (from prometheus-flask-exporter<1->mlflow->-r requirements.txt (line 1)) (0.13.1)\n",
      "Requirement already satisfied: certifi>=2017.4.17 in /Users/silvergenova/Library/Python/3.8/lib/python/site-packages (from requests<3,>=2.17.3->mlflow->-r requirements.txt (line 1)) (2021.10.8)\n",
      "Requirement already satisfied: idna<4,>=2.5 in /Users/silvergenova/Library/Python/3.8/lib/python/site-packages (from requests<3,>=2.17.3->mlflow->-r requirements.txt (line 1)) (3.3)\n",
      "Requirement already satisfied: charset-normalizer~=2.0.0 in /Users/silvergenova/Library/Python/3.8/lib/python/site-packages (from requests<3,>=2.17.3->mlflow->-r requirements.txt (line 1)) (2.0.10)\n",
      "Requirement already satisfied: greenlet!=0.4.17 in /Users/silvergenova/Library/Python/3.8/lib/python/site-packages (from sqlalchemy<2,>=1.4.0->mlflow->-r requirements.txt (line 1)) (1.1.3)\n",
      "Requirement already satisfied: threadpoolctl>=2.0.0 in /Users/silvergenova/Library/Python/3.8/lib/python/site-packages (from scikit-learn->sklearn->-r requirements.txt (line 2)) (3.1.0)\n",
      "Requirement already satisfied: joblib>=1.0.0 in /Users/silvergenova/Library/Python/3.8/lib/python/site-packages (from scikit-learn->sklearn->-r requirements.txt (line 2)) (1.0.1)\n",
      "Requirement already satisfied: smmap<6,>=3.0.1 in /Users/silvergenova/Library/Python/3.8/lib/python/site-packages (from gitdb<5,>=4.0.1->gitpython<4,>=2.1.0->mlflow->-r requirements.txt (line 1)) (5.0.0)\n",
      "Requirement already satisfied: MarkupSafe>=2.0 in /Users/silvergenova/Library/Python/3.8/lib/python/site-packages (from Jinja2>=2.10.1->Flask<3->mlflow->-r requirements.txt (line 1)) (2.0.1)\n",
      "\u001b[33mWARNING: You are using pip version 22.0.4; however, version 22.3.1 is available.\n",
      "You should consider upgrading via the '/Library/Developer/CommandLineTools/usr/bin/python3 -m pip install --upgrade pip' command.\u001b[0m\u001b[33m\n",
      "\u001b[0mNote: you may need to restart the kernel to use updated packages.\n"
     ]
    }
   ],
   "source": [
    "%pip install -r requirements.txt "
   ]
  },
  {
   "cell_type": "markdown",
   "metadata": {},
   "source": [
    "For the next step, we will need to pull the data from [here](https://www.kaggle.com/datasets/harlfoxem/housesalesprediction?resource=download).\n"
   ]
  },
  {
   "cell_type": "markdown",
   "metadata": {},
   "source": [
    "## Get Data"
   ]
  },
  {
   "cell_type": "markdown",
   "metadata": {},
   "source": [
    "After you have downloaded the dataset or use the one I have provided for you, we can define the columns in this dataset. We will download the House Sales in King County, USA dataset with a 21 feature columns and price as the target column."
   ]
  },
  {
   "cell_type": "markdown",
   "metadata": {},
   "source": [
    "I will define the columns for you here.  <br>  <br>\n",
    "**id** - Unique ID for each home sold <br>\n",
    "**date** - Date of the home sale <br>\n",
    "**price** - Price of each home sold <br>\n",
    "**bedrooms** - Number of bedrooms <br>\n",
    "**bathrooms** - Number of bathrooms, where .5 accounts for a room with a toilet but no shower <br>\n",
    "**sqft_living** - Square footage of the apartments interior living space <br>\n",
    "**sqft_lot** - Square footage of the land space  <br>\n",
    "**floors** - Number of floors <br>\n",
    "**waterfront** - A dummy variable for whether the apartment was overlooking the waterfront or not <br>\n",
    "**view** - An index from 0 to 4 of how good the view of the property was <br>\n",
    "**condition** - An index from 1 to 5 on the condition of the apartment  <br>\n",
    "**grade** - An index from 1 to 13, where 1-3 falls short of building construction and design, 7 has an average level of construction and design, and 11-13 have a high quality level of construction and design.  <br>\n",
    "**sqft_above** - The square footage of the interior housing space that is above ground level  <br>\n",
    "**sqft_basement** - The square footage of the interior housing space that is below ground level  <br>\n",
    "**yr_built** - The year the house was initially built <br>\n",
    "**yr_renovated** - The year of the house’s last renovation <br>\n",
    "**zipcode** - What zipcode area the house is in <br>\n",
    "**lat** - Latitude <br>\n",
    "**long** - Longitude <br>\n",
    "**sqft_living15** - The square footage of interior housing living space for the nearest 15 neighbors <br>\n",
    "**sqft_lot15** - The square footage of the land lots of the nearest 15 neighbors <br>\n"
   ]
  },
  {
   "cell_type": "code",
   "execution_count": 2,
   "metadata": {},
   "outputs": [],
   "source": [
    "import pandas as pd\n",
    "df = pd.read_csv('kc_house_data.csv')\n",
    "df = df.drop(['id', 'date'], axis=1)\n",
    "df = df.dropna()"
   ]
  },
  {
   "cell_type": "code",
   "execution_count": 3,
   "metadata": {},
   "outputs": [],
   "source": [
    "import pandas as pd\n",
    "from sklearn.model_selection import train_test_split\n",
    "# split into input and output elements\n",
    "X = df.loc[:, df.columns != 'price']\n",
    "y = df.loc[:, 'price']\n",
    "X_train, X_test, y_train, y_test = train_test_split(\n",
    "    X, y, test_size=0.33, random_state=42)"
   ]
  },
  {
   "cell_type": "markdown",
   "metadata": {},
   "source": [
    "Now, we are ready to train our model. "
   ]
  },
  {
   "cell_type": "markdown",
   "metadata": {},
   "source": [
    "## Train Model"
   ]
  },
  {
   "cell_type": "markdown",
   "metadata": {},
   "source": [
    "We will be using GridSearchCV in this example. GridSearchCV allows us to do hyperparamater tuning in our RandomForestRegressor model, and it is a great way to showcase MLFlow. MLFlow makes it easy to identify the best model quickly by recording all of the paramaters and the results."
   ]
  },
  {
   "cell_type": "code",
   "execution_count": 4,
   "metadata": {},
   "outputs": [
    {
     "name": "stdout",
     "output_type": "stream",
     "text": [
      "Best Score: 0.8438245555164338\n",
      "Best Hyperparameters: {'criterion': 'squared_error', 'max_depth': 8, 'max_features': 1.0, 'n_estimators': 200}\n"
     ]
    }
   ],
   "source": [
    "from helper import fetch_logged_data, yield_artifacts\n",
    "from sklearn.ensemble import RandomForestRegressor\n",
    "from sklearn.model_selection import GridSearchCV\n",
    "\n",
    "model = RandomForestRegressor(random_state=42)\n",
    "param_grid = {\n",
    "    'n_estimators': [100, 200],\n",
    "    'max_features': [1.0],\n",
    "    'max_depth': [4, 6, 8],\n",
    "    'criterion': ['squared_error']\n",
    "}\n",
    "# define search\n",
    "search = GridSearchCV(\n",
    "    estimator=model, param_grid=param_grid, n_jobs=-1)\n",
    "result = search.fit(X_train, y_train)\n",
    "# summarize result\n",
    "print('Best Score: %s' % result.best_score_)\n",
    "print('Best Hyperparameters: %s' % result.best_params_)"
   ]
  },
  {
   "cell_type": "markdown",
   "metadata": {},
   "source": [
    "Our best model is RandomForestRegressor with {'criterion': 'squared_error', 'max_depth': 8, 'max_features': 1.0, 'n_estimators': 200} as hyperparamaters for a final score of 0.843825. The mean absolute error is within the standard deviation of 367127. "
   ]
  },
  {
   "cell_type": "markdown",
   "metadata": {},
   "source": [
    "Neat thing about RandomForestRegressor is that you can figure out the feature_importance. "
   ]
  },
  {
   "cell_type": "code",
   "execution_count": 5,
   "metadata": {},
   "outputs": [],
   "source": [
    "importances = result.best_estimator_.feature_importances_"
   ]
  },
  {
   "cell_type": "code",
   "execution_count": 6,
   "metadata": {},
   "outputs": [],
   "source": [
    "forest_importances = pd.DataFrame(importances, index=X.columns)\n"
   ]
  },
  {
   "cell_type": "code",
   "execution_count": 7,
   "metadata": {},
   "outputs": [],
   "source": [
    "#Add color based upon x value\n",
    "forest_importances['colors'] = [ 'red'\n",
    "   if x > 0.1\n",
    "   else 'blue' for x in forest_importances[0]]"
   ]
  },
  {
   "cell_type": "code",
   "execution_count": 8,
   "metadata": {},
   "outputs": [
    {
     "data": {
      "text/plain": [
       "bedrooms         blue\n",
       "bathrooms        blue\n",
       "sqft_living       red\n",
       "sqft_lot         blue\n",
       "floors           blue\n",
       "waterfront       blue\n",
       "view             blue\n",
       "condition        blue\n",
       "grade             red\n",
       "sqft_above       blue\n",
       "sqft_basement    blue\n",
       "yr_built         blue\n",
       "yr_renovated     blue\n",
       "zipcode          blue\n",
       "lat               red\n",
       "long             blue\n",
       "sqft_living15    blue\n",
       "sqft_lot15       blue\n",
       "Name: colors, dtype: object"
      ]
     },
     "execution_count": 8,
     "metadata": {},
     "output_type": "execute_result"
    }
   ],
   "source": [
    "forest_importances['colors']"
   ]
  },
  {
   "cell_type": "code",
   "execution_count": 9,
   "metadata": {},
   "outputs": [
    {
     "data": {
      "application/vnd.plotly.v1+json": {
       "config": {
        "plotlyServerURL": "https://plot.ly"
       },
       "data": [
        {
         "alignmentgroup": "True",
         "hovertemplate": "colors=blue<br>value=%{x}<br>index=%{y}<extra></extra>",
         "legendgroup": "blue",
         "marker": {
          "color": "#636efa"
         },
         "name": "blue",
         "offsetgroup": "blue",
         "orientation": "h",
         "showlegend": true,
         "textposition": "auto",
         "type": "bar",
         "x": [
          0.0011113674289937802,
          0.014074610484486445,
          0.006752868924614153,
          0.0007831600983136252,
          0.03248556080741191,
          0.007895802367251785,
          0.0005909130365051505,
          0.014753314779079195,
          0.0036164611799573776,
          0.03063641556448249,
          0.0008424868486074676,
          0.009952267589143776,
          0.06157233212858486,
          0.022597551869634244,
          0.005736857297278652
         ],
         "xaxis": "x",
         "y": [
          "bedrooms",
          "bathrooms",
          "sqft_lot",
          "floors",
          "waterfront",
          "view",
          "condition",
          "sqft_above",
          "sqft_basement",
          "yr_built",
          "yr_renovated",
          "zipcode",
          "long",
          "sqft_living15",
          "sqft_lot15"
         ],
         "yaxis": "y"
        },
        {
         "alignmentgroup": "True",
         "hovertemplate": "colors=red<br>value=%{x}<br>index=%{y}<extra></extra>",
         "legendgroup": "red",
         "marker": {
          "color": "#EF553B"
         },
         "name": "red",
         "offsetgroup": "red",
         "orientation": "h",
         "showlegend": true,
         "textposition": "auto",
         "type": "bar",
         "x": [
          0.25578092413342396,
          0.383584154087876,
          0.1472329513743552
         ],
         "xaxis": "x",
         "y": [
          "sqft_living",
          "grade",
          "lat"
         ],
         "yaxis": "y"
        }
       ],
       "layout": {
        "barmode": "relative",
        "legend": {
         "title": {
          "text": "colors"
         },
         "tracegroupgap": 0
        },
        "margin": {
         "t": 60
        },
        "plot_bgcolor": "rgba(0, 0, 0, 0)",
        "showlegend": false,
        "template": {
         "data": {
          "bar": [
           {
            "error_x": {
             "color": "#2a3f5f"
            },
            "error_y": {
             "color": "#2a3f5f"
            },
            "marker": {
             "line": {
              "color": "#E5ECF6",
              "width": 0.5
             }
            },
            "type": "bar"
           }
          ],
          "barpolar": [
           {
            "marker": {
             "line": {
              "color": "#E5ECF6",
              "width": 0.5
             }
            },
            "type": "barpolar"
           }
          ],
          "carpet": [
           {
            "aaxis": {
             "endlinecolor": "#2a3f5f",
             "gridcolor": "white",
             "linecolor": "white",
             "minorgridcolor": "white",
             "startlinecolor": "#2a3f5f"
            },
            "baxis": {
             "endlinecolor": "#2a3f5f",
             "gridcolor": "white",
             "linecolor": "white",
             "minorgridcolor": "white",
             "startlinecolor": "#2a3f5f"
            },
            "type": "carpet"
           }
          ],
          "choropleth": [
           {
            "colorbar": {
             "outlinewidth": 0,
             "ticks": ""
            },
            "type": "choropleth"
           }
          ],
          "contour": [
           {
            "colorbar": {
             "outlinewidth": 0,
             "ticks": ""
            },
            "colorscale": [
             [
              0,
              "#0d0887"
             ],
             [
              0.1111111111111111,
              "#46039f"
             ],
             [
              0.2222222222222222,
              "#7201a8"
             ],
             [
              0.3333333333333333,
              "#9c179e"
             ],
             [
              0.4444444444444444,
              "#bd3786"
             ],
             [
              0.5555555555555556,
              "#d8576b"
             ],
             [
              0.6666666666666666,
              "#ed7953"
             ],
             [
              0.7777777777777778,
              "#fb9f3a"
             ],
             [
              0.8888888888888888,
              "#fdca26"
             ],
             [
              1,
              "#f0f921"
             ]
            ],
            "type": "contour"
           }
          ],
          "contourcarpet": [
           {
            "colorbar": {
             "outlinewidth": 0,
             "ticks": ""
            },
            "type": "contourcarpet"
           }
          ],
          "heatmap": [
           {
            "colorbar": {
             "outlinewidth": 0,
             "ticks": ""
            },
            "colorscale": [
             [
              0,
              "#0d0887"
             ],
             [
              0.1111111111111111,
              "#46039f"
             ],
             [
              0.2222222222222222,
              "#7201a8"
             ],
             [
              0.3333333333333333,
              "#9c179e"
             ],
             [
              0.4444444444444444,
              "#bd3786"
             ],
             [
              0.5555555555555556,
              "#d8576b"
             ],
             [
              0.6666666666666666,
              "#ed7953"
             ],
             [
              0.7777777777777778,
              "#fb9f3a"
             ],
             [
              0.8888888888888888,
              "#fdca26"
             ],
             [
              1,
              "#f0f921"
             ]
            ],
            "type": "heatmap"
           }
          ],
          "heatmapgl": [
           {
            "colorbar": {
             "outlinewidth": 0,
             "ticks": ""
            },
            "colorscale": [
             [
              0,
              "#0d0887"
             ],
             [
              0.1111111111111111,
              "#46039f"
             ],
             [
              0.2222222222222222,
              "#7201a8"
             ],
             [
              0.3333333333333333,
              "#9c179e"
             ],
             [
              0.4444444444444444,
              "#bd3786"
             ],
             [
              0.5555555555555556,
              "#d8576b"
             ],
             [
              0.6666666666666666,
              "#ed7953"
             ],
             [
              0.7777777777777778,
              "#fb9f3a"
             ],
             [
              0.8888888888888888,
              "#fdca26"
             ],
             [
              1,
              "#f0f921"
             ]
            ],
            "type": "heatmapgl"
           }
          ],
          "histogram": [
           {
            "marker": {
             "colorbar": {
              "outlinewidth": 0,
              "ticks": ""
             }
            },
            "type": "histogram"
           }
          ],
          "histogram2d": [
           {
            "colorbar": {
             "outlinewidth": 0,
             "ticks": ""
            },
            "colorscale": [
             [
              0,
              "#0d0887"
             ],
             [
              0.1111111111111111,
              "#46039f"
             ],
             [
              0.2222222222222222,
              "#7201a8"
             ],
             [
              0.3333333333333333,
              "#9c179e"
             ],
             [
              0.4444444444444444,
              "#bd3786"
             ],
             [
              0.5555555555555556,
              "#d8576b"
             ],
             [
              0.6666666666666666,
              "#ed7953"
             ],
             [
              0.7777777777777778,
              "#fb9f3a"
             ],
             [
              0.8888888888888888,
              "#fdca26"
             ],
             [
              1,
              "#f0f921"
             ]
            ],
            "type": "histogram2d"
           }
          ],
          "histogram2dcontour": [
           {
            "colorbar": {
             "outlinewidth": 0,
             "ticks": ""
            },
            "colorscale": [
             [
              0,
              "#0d0887"
             ],
             [
              0.1111111111111111,
              "#46039f"
             ],
             [
              0.2222222222222222,
              "#7201a8"
             ],
             [
              0.3333333333333333,
              "#9c179e"
             ],
             [
              0.4444444444444444,
              "#bd3786"
             ],
             [
              0.5555555555555556,
              "#d8576b"
             ],
             [
              0.6666666666666666,
              "#ed7953"
             ],
             [
              0.7777777777777778,
              "#fb9f3a"
             ],
             [
              0.8888888888888888,
              "#fdca26"
             ],
             [
              1,
              "#f0f921"
             ]
            ],
            "type": "histogram2dcontour"
           }
          ],
          "mesh3d": [
           {
            "colorbar": {
             "outlinewidth": 0,
             "ticks": ""
            },
            "type": "mesh3d"
           }
          ],
          "parcoords": [
           {
            "line": {
             "colorbar": {
              "outlinewidth": 0,
              "ticks": ""
             }
            },
            "type": "parcoords"
           }
          ],
          "pie": [
           {
            "automargin": true,
            "type": "pie"
           }
          ],
          "scatter": [
           {
            "marker": {
             "colorbar": {
              "outlinewidth": 0,
              "ticks": ""
             }
            },
            "type": "scatter"
           }
          ],
          "scatter3d": [
           {
            "line": {
             "colorbar": {
              "outlinewidth": 0,
              "ticks": ""
             }
            },
            "marker": {
             "colorbar": {
              "outlinewidth": 0,
              "ticks": ""
             }
            },
            "type": "scatter3d"
           }
          ],
          "scattercarpet": [
           {
            "marker": {
             "colorbar": {
              "outlinewidth": 0,
              "ticks": ""
             }
            },
            "type": "scattercarpet"
           }
          ],
          "scattergeo": [
           {
            "marker": {
             "colorbar": {
              "outlinewidth": 0,
              "ticks": ""
             }
            },
            "type": "scattergeo"
           }
          ],
          "scattergl": [
           {
            "marker": {
             "colorbar": {
              "outlinewidth": 0,
              "ticks": ""
             }
            },
            "type": "scattergl"
           }
          ],
          "scattermapbox": [
           {
            "marker": {
             "colorbar": {
              "outlinewidth": 0,
              "ticks": ""
             }
            },
            "type": "scattermapbox"
           }
          ],
          "scatterpolar": [
           {
            "marker": {
             "colorbar": {
              "outlinewidth": 0,
              "ticks": ""
             }
            },
            "type": "scatterpolar"
           }
          ],
          "scatterpolargl": [
           {
            "marker": {
             "colorbar": {
              "outlinewidth": 0,
              "ticks": ""
             }
            },
            "type": "scatterpolargl"
           }
          ],
          "scatterternary": [
           {
            "marker": {
             "colorbar": {
              "outlinewidth": 0,
              "ticks": ""
             }
            },
            "type": "scatterternary"
           }
          ],
          "surface": [
           {
            "colorbar": {
             "outlinewidth": 0,
             "ticks": ""
            },
            "colorscale": [
             [
              0,
              "#0d0887"
             ],
             [
              0.1111111111111111,
              "#46039f"
             ],
             [
              0.2222222222222222,
              "#7201a8"
             ],
             [
              0.3333333333333333,
              "#9c179e"
             ],
             [
              0.4444444444444444,
              "#bd3786"
             ],
             [
              0.5555555555555556,
              "#d8576b"
             ],
             [
              0.6666666666666666,
              "#ed7953"
             ],
             [
              0.7777777777777778,
              "#fb9f3a"
             ],
             [
              0.8888888888888888,
              "#fdca26"
             ],
             [
              1,
              "#f0f921"
             ]
            ],
            "type": "surface"
           }
          ],
          "table": [
           {
            "cells": {
             "fill": {
              "color": "#EBF0F8"
             },
             "line": {
              "color": "white"
             }
            },
            "header": {
             "fill": {
              "color": "#C8D4E3"
             },
             "line": {
              "color": "white"
             }
            },
            "type": "table"
           }
          ]
         },
         "layout": {
          "annotationdefaults": {
           "arrowcolor": "#2a3f5f",
           "arrowhead": 0,
           "arrowwidth": 1
          },
          "autotypenumbers": "strict",
          "coloraxis": {
           "colorbar": {
            "outlinewidth": 0,
            "ticks": ""
           }
          },
          "colorscale": {
           "diverging": [
            [
             0,
             "#8e0152"
            ],
            [
             0.1,
             "#c51b7d"
            ],
            [
             0.2,
             "#de77ae"
            ],
            [
             0.3,
             "#f1b6da"
            ],
            [
             0.4,
             "#fde0ef"
            ],
            [
             0.5,
             "#f7f7f7"
            ],
            [
             0.6,
             "#e6f5d0"
            ],
            [
             0.7,
             "#b8e186"
            ],
            [
             0.8,
             "#7fbc41"
            ],
            [
             0.9,
             "#4d9221"
            ],
            [
             1,
             "#276419"
            ]
           ],
           "sequential": [
            [
             0,
             "#0d0887"
            ],
            [
             0.1111111111111111,
             "#46039f"
            ],
            [
             0.2222222222222222,
             "#7201a8"
            ],
            [
             0.3333333333333333,
             "#9c179e"
            ],
            [
             0.4444444444444444,
             "#bd3786"
            ],
            [
             0.5555555555555556,
             "#d8576b"
            ],
            [
             0.6666666666666666,
             "#ed7953"
            ],
            [
             0.7777777777777778,
             "#fb9f3a"
            ],
            [
             0.8888888888888888,
             "#fdca26"
            ],
            [
             1,
             "#f0f921"
            ]
           ],
           "sequentialminus": [
            [
             0,
             "#0d0887"
            ],
            [
             0.1111111111111111,
             "#46039f"
            ],
            [
             0.2222222222222222,
             "#7201a8"
            ],
            [
             0.3333333333333333,
             "#9c179e"
            ],
            [
             0.4444444444444444,
             "#bd3786"
            ],
            [
             0.5555555555555556,
             "#d8576b"
            ],
            [
             0.6666666666666666,
             "#ed7953"
            ],
            [
             0.7777777777777778,
             "#fb9f3a"
            ],
            [
             0.8888888888888888,
             "#fdca26"
            ],
            [
             1,
             "#f0f921"
            ]
           ]
          },
          "colorway": [
           "#636efa",
           "#EF553B",
           "#00cc96",
           "#ab63fa",
           "#FFA15A",
           "#19d3f3",
           "#FF6692",
           "#B6E880",
           "#FF97FF",
           "#FECB52"
          ],
          "font": {
           "color": "#2a3f5f"
          },
          "geo": {
           "bgcolor": "white",
           "lakecolor": "white",
           "landcolor": "#E5ECF6",
           "showlakes": true,
           "showland": true,
           "subunitcolor": "white"
          },
          "hoverlabel": {
           "align": "left"
          },
          "hovermode": "closest",
          "mapbox": {
           "style": "light"
          },
          "paper_bgcolor": "white",
          "plot_bgcolor": "#E5ECF6",
          "polar": {
           "angularaxis": {
            "gridcolor": "white",
            "linecolor": "white",
            "ticks": ""
           },
           "bgcolor": "#E5ECF6",
           "radialaxis": {
            "gridcolor": "white",
            "linecolor": "white",
            "ticks": ""
           }
          },
          "scene": {
           "xaxis": {
            "backgroundcolor": "#E5ECF6",
            "gridcolor": "white",
            "gridwidth": 2,
            "linecolor": "white",
            "showbackground": true,
            "ticks": "",
            "zerolinecolor": "white"
           },
           "yaxis": {
            "backgroundcolor": "#E5ECF6",
            "gridcolor": "white",
            "gridwidth": 2,
            "linecolor": "white",
            "showbackground": true,
            "ticks": "",
            "zerolinecolor": "white"
           },
           "zaxis": {
            "backgroundcolor": "#E5ECF6",
            "gridcolor": "white",
            "gridwidth": 2,
            "linecolor": "white",
            "showbackground": true,
            "ticks": "",
            "zerolinecolor": "white"
           }
          },
          "shapedefaults": {
           "line": {
            "color": "#2a3f5f"
           }
          },
          "ternary": {
           "aaxis": {
            "gridcolor": "white",
            "linecolor": "white",
            "ticks": ""
           },
           "baxis": {
            "gridcolor": "white",
            "linecolor": "white",
            "ticks": ""
           },
           "bgcolor": "#E5ECF6",
           "caxis": {
            "gridcolor": "white",
            "linecolor": "white",
            "ticks": ""
           }
          },
          "title": {
           "x": 0.05
          },
          "xaxis": {
           "automargin": true,
           "gridcolor": "white",
           "linecolor": "white",
           "ticks": "",
           "title": {
            "standoff": 15
           },
           "zerolinecolor": "white",
           "zerolinewidth": 2
          },
          "yaxis": {
           "automargin": true,
           "gridcolor": "white",
           "linecolor": "white",
           "ticks": "",
           "title": {
            "standoff": 15
           },
           "zerolinecolor": "white",
           "zerolinewidth": 2
          }
         }
        },
        "xaxis": {
         "anchor": "y",
         "domain": [
          0,
          1
         ],
         "showgrid": false,
         "title": {
          "text": "Importance Value"
         }
        },
        "yaxis": {
         "anchor": "x",
         "categoryorder": "total ascending",
         "domain": [
          0,
          1
         ],
         "showgrid": false,
         "title": {
          "text": "Feature"
         }
        }
       }
      }
     },
     "metadata": {},
     "output_type": "display_data"
    }
   ],
   "source": [
    "import plotly.express as px\n",
    "fig = px.bar(forest_importances, orientation='h', color='colors')\n",
    "fig.update_layout({\n",
    "'plot_bgcolor': 'rgba(0, 0, 0, 0)',\n",
    "}, yaxis={'categoryorder':'total ascending','showgrid':False, 'title': 'Feature'},\n",
    "xaxis={'showgrid':False, 'title':'Importance Value'}\n",
    ",showlegend=False)"
   ]
  },
  {
   "cell_type": "markdown",
   "metadata": {},
   "source": [
    "Suggesting that the most important features in this model are grade or how nice the house is, how big the house is and where it is located. I am glad that this data confirms what we already see in real life. "
   ]
  },
  {
   "cell_type": "markdown",
   "metadata": {},
   "source": [
    "*Now that is something you can show your stakeholders!*"
   ]
  }
 ],
 "metadata": {
  "kernelspec": {
   "display_name": "Python 3.8.9 64-bit",
   "language": "python",
   "name": "python3"
  },
  "language_info": {
   "codemirror_mode": {
    "name": "ipython",
    "version": 3
   },
   "file_extension": ".py",
   "mimetype": "text/x-python",
   "name": "python",
   "nbconvert_exporter": "python",
   "pygments_lexer": "ipython3",
   "version": "3.8.9"
  },
  "orig_nbformat": 4,
  "vscode": {
   "interpreter": {
    "hash": "31f2aee4e71d21fbe5cf8b01ff0e069b9275f58929596ceb00d14d90e3e16cd6"
   }
  }
 },
 "nbformat": 4,
 "nbformat_minor": 2
}
